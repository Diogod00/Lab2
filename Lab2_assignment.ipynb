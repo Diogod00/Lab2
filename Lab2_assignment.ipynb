{
  "nbformat": 4,
  "nbformat_minor": 0,
  "metadata": {
    "colab": {
      "name": "Lab2_assignment.ipynb",
      "provenance": [],
      "collapsed_sections": [],
      "include_colab_link": true
    },
    "kernelspec": {
      "name": "python3",
      "display_name": "Python 3"
    },
    "language_info": {
      "name": "python"
    }
  },
  "cells": [
    {
      "cell_type": "markdown",
      "metadata": {
        "id": "view-in-github",
        "colab_type": "text"
      },
      "source": [
        "<a href=\"https://colab.research.google.com/github/Diogod00/Lab2/blob/Luis/Lab2_assignment.ipynb\" target=\"_parent\"><img src=\"https://colab.research.google.com/assets/colab-badge.svg\" alt=\"Open In Colab\"/></a>"
      ]
    },
    {
      "cell_type": "markdown",
      "source": [
        "# Laboratory Session 2 -- Assignment\n",
        "\n",
        "To be delivered until 2021-12-20 23:59:59."
      ],
      "metadata": {
        "id": "JV5YbbVNlCLl"
      }
    },
    {
      "cell_type": "markdown",
      "source": [
        "## Section 1 -- Linear Regression\n",
        "\n",
        "**1.** Consider a dataset with 100 observations, containing a single predictor and a quantitative response. Two different models are fitted to the data, a linear regression ($m_1: Y = \\beta_0 + \\beta_1 X + \\epsilon$) and a cubic regression ($m_2: Y = \\beta_0 + \\beta_1 X + \\beta_2 X^2 + \\beta_3 X^3 + \\epsilon$)."
      ],
      "metadata": {
        "id": "A746fsNRldR4"
      }
    },
    {
      "cell_type": "markdown",
      "source": [
        "**1.a)** Suppose that the actual relation between X and Y is linear. Can the **training** residual sum of squares (RSS) of the linear model be expected to be smaller, larger or equal to the one from the cubic model? Or is there no information to tell? Justify your answer."
      ],
      "metadata": {
        "id": "gOuCfx3sm8hZ"
      }
    },
    {
      "cell_type": "markdown",
      "source": [
        "**1.b)** Answer question 1.a) considering the test RSS rather than the training RSS."
      ],
      "metadata": {
        "id": "f-Z6e3nem88s"
      }
    },
    {
      "cell_type": "markdown",
      "source": [
        "**1.c)** Suppose that the actual relationship between X and Y is not linear, but it is not known how far it is from being linear. What is it expected of the the **training** RSS for the linear compared with the cubic models? Or is there not enough information? Justify your answer."
      ],
      "metadata": {
        "id": "gmhX35ckm9St"
      }
    },
    {
      "cell_type": "markdown",
      "source": [
        "**1.d)** Answer question 1.c) considering the test RSS rather than the training RSS."
      ],
      "metadata": {
        "id": "68b9Gt-Sm9lp"
      }
    },
    {
      "cell_type": "markdown",
      "source": [
        "**2.a)** Load the dataset \"auto.csv\" "
      ],
      "metadata": {
        "id": "JlY6gihzHUm5"
      }
    },
    {
      "cell_type": "markdown",
      "source": [
        "**2.b)** Perform a simple linear regression considering *mpg* as the response and *horsepower* as the predictor. Given the results, comment on the following statements:"
      ],
      "metadata": {
        "id": "BM90R_i8OCik"
      }
    },
    {
      "cell_type": "markdown",
      "source": [
        "    i) Are the predictor and response statistically related?"
      ],
      "metadata": {
        "id": "2BlMbcTJOsDD"
      }
    },
    {
      "cell_type": "markdown",
      "source": [
        "    ii) How strong is the relationship between predictor and response? (*Hint: comment on the R^2 score of the model*)"
      ],
      "metadata": {
        "id": "ir5VRfrmO8o6"
      }
    },
    {
      "cell_type": "markdown",
      "source": [
        "    iii) Is the relationship between the predictor and response positive or negative?"
      ],
      "metadata": {
        "id": "D9JSjxC3O8x3"
      }
    },
    {
      "cell_type": "markdown",
      "source": [
        "    iv) What is the predicted value of mpg when the horsepower is 98?"
      ],
      "metadata": {
        "id": "mIzssLawO84u"
      }
    },
    {
      "cell_type": "markdown",
      "source": [
        "**2.c)** Plot a scatter plot of the response and predictor, along with the regression line."
      ],
      "metadata": {
        "id": "yRYL0_TeQQfp"
      }
    },
    {
      "cell_type": "markdown",
      "source": [
        "## Section 2 -- Classification"
      ],
      "metadata": {
        "id": "1xBHkVadQ5Ot"
      }
    },
    {
      "cell_type": "markdown",
      "source": [
        "**3)** Suppose that a dataset is divided into two equally-sized training and test sets, and then try out two different classification procedures:\n",
        "\n",
        "* The first is the logistic regression, obtaining an error rate of 20% on the training data and 30% on the test data.\n",
        "* The second is a 1-nearest neighbors, with an average error rate (averaged over test and training datasets) of 18%.\n",
        "\n",
        "Based on these results, which method is preferred for classifying new observations? Why?"
      ],
      "metadata": {
        "id": "SIpGTVYkRD9A"
      }
    },
    {
      "cell_type": "markdown",
      "source": [
        "**4.a)** Load the dataset \"auto.csv\""
      ],
      "metadata": {
        "id": "z0Ws08q_SVLO"
      }
    },
    {
      "cell_type": "code",
      "source": [
        "import numpy as np\n",
        "import pandas as pd\n",
        "import sklearn\n",
        "import matplotlib.pyplot as plt\n",
        "import seaborn as sns\n",
        "import scipy\n",
        "\n",
        "auto = pd.read_csv(\"auto.csv\")\n",
        "auto"
      ],
      "metadata": {
        "id": "nhV40M6q_AXh",
        "outputId": "19f99231-8f96-4cee-80ea-245192fc0c2b",
        "colab": {
          "base_uri": "https://localhost:8080/",
          "height": 424
        }
      },
      "execution_count": 5,
      "outputs": [
        {
          "output_type": "execute_result",
          "data": {
            "text/html": [
              "<div>\n",
              "<style scoped>\n",
              "    .dataframe tbody tr th:only-of-type {\n",
              "        vertical-align: middle;\n",
              "    }\n",
              "\n",
              "    .dataframe tbody tr th {\n",
              "        vertical-align: top;\n",
              "    }\n",
              "\n",
              "    .dataframe thead th {\n",
              "        text-align: right;\n",
              "    }\n",
              "</style>\n",
              "<table border=\"1\" class=\"dataframe\">\n",
              "  <thead>\n",
              "    <tr style=\"text-align: right;\">\n",
              "      <th></th>\n",
              "      <th>mpg</th>\n",
              "      <th>cylinders</th>\n",
              "      <th>displacement</th>\n",
              "      <th>horsepower</th>\n",
              "      <th>weight</th>\n",
              "      <th>acceleration</th>\n",
              "      <th>year</th>\n",
              "      <th>origin</th>\n",
              "      <th>name</th>\n",
              "    </tr>\n",
              "  </thead>\n",
              "  <tbody>\n",
              "    <tr>\n",
              "      <th>0</th>\n",
              "      <td>18.0</td>\n",
              "      <td>8</td>\n",
              "      <td>307.0</td>\n",
              "      <td>130</td>\n",
              "      <td>3504</td>\n",
              "      <td>12.0</td>\n",
              "      <td>70</td>\n",
              "      <td>1</td>\n",
              "      <td>chevrolet chevelle malibu</td>\n",
              "    </tr>\n",
              "    <tr>\n",
              "      <th>1</th>\n",
              "      <td>15.0</td>\n",
              "      <td>8</td>\n",
              "      <td>350.0</td>\n",
              "      <td>165</td>\n",
              "      <td>3693</td>\n",
              "      <td>11.5</td>\n",
              "      <td>70</td>\n",
              "      <td>1</td>\n",
              "      <td>buick skylark 320</td>\n",
              "    </tr>\n",
              "    <tr>\n",
              "      <th>2</th>\n",
              "      <td>18.0</td>\n",
              "      <td>8</td>\n",
              "      <td>318.0</td>\n",
              "      <td>150</td>\n",
              "      <td>3436</td>\n",
              "      <td>11.0</td>\n",
              "      <td>70</td>\n",
              "      <td>1</td>\n",
              "      <td>plymouth satellite</td>\n",
              "    </tr>\n",
              "    <tr>\n",
              "      <th>3</th>\n",
              "      <td>16.0</td>\n",
              "      <td>8</td>\n",
              "      <td>304.0</td>\n",
              "      <td>150</td>\n",
              "      <td>3433</td>\n",
              "      <td>12.0</td>\n",
              "      <td>70</td>\n",
              "      <td>1</td>\n",
              "      <td>amc rebel sst</td>\n",
              "    </tr>\n",
              "    <tr>\n",
              "      <th>4</th>\n",
              "      <td>17.0</td>\n",
              "      <td>8</td>\n",
              "      <td>302.0</td>\n",
              "      <td>140</td>\n",
              "      <td>3449</td>\n",
              "      <td>10.5</td>\n",
              "      <td>70</td>\n",
              "      <td>1</td>\n",
              "      <td>ford torino</td>\n",
              "    </tr>\n",
              "    <tr>\n",
              "      <th>...</th>\n",
              "      <td>...</td>\n",
              "      <td>...</td>\n",
              "      <td>...</td>\n",
              "      <td>...</td>\n",
              "      <td>...</td>\n",
              "      <td>...</td>\n",
              "      <td>...</td>\n",
              "      <td>...</td>\n",
              "      <td>...</td>\n",
              "    </tr>\n",
              "    <tr>\n",
              "      <th>387</th>\n",
              "      <td>27.0</td>\n",
              "      <td>4</td>\n",
              "      <td>140.0</td>\n",
              "      <td>86</td>\n",
              "      <td>2790</td>\n",
              "      <td>15.6</td>\n",
              "      <td>82</td>\n",
              "      <td>1</td>\n",
              "      <td>ford mustang gl</td>\n",
              "    </tr>\n",
              "    <tr>\n",
              "      <th>388</th>\n",
              "      <td>44.0</td>\n",
              "      <td>4</td>\n",
              "      <td>97.0</td>\n",
              "      <td>52</td>\n",
              "      <td>2130</td>\n",
              "      <td>24.6</td>\n",
              "      <td>82</td>\n",
              "      <td>2</td>\n",
              "      <td>vw pickup</td>\n",
              "    </tr>\n",
              "    <tr>\n",
              "      <th>389</th>\n",
              "      <td>32.0</td>\n",
              "      <td>4</td>\n",
              "      <td>135.0</td>\n",
              "      <td>84</td>\n",
              "      <td>2295</td>\n",
              "      <td>11.6</td>\n",
              "      <td>82</td>\n",
              "      <td>1</td>\n",
              "      <td>dodge rampage</td>\n",
              "    </tr>\n",
              "    <tr>\n",
              "      <th>390</th>\n",
              "      <td>28.0</td>\n",
              "      <td>4</td>\n",
              "      <td>120.0</td>\n",
              "      <td>79</td>\n",
              "      <td>2625</td>\n",
              "      <td>18.6</td>\n",
              "      <td>82</td>\n",
              "      <td>1</td>\n",
              "      <td>ford ranger</td>\n",
              "    </tr>\n",
              "    <tr>\n",
              "      <th>391</th>\n",
              "      <td>31.0</td>\n",
              "      <td>4</td>\n",
              "      <td>119.0</td>\n",
              "      <td>82</td>\n",
              "      <td>2720</td>\n",
              "      <td>19.4</td>\n",
              "      <td>82</td>\n",
              "      <td>1</td>\n",
              "      <td>chevy s-10</td>\n",
              "    </tr>\n",
              "  </tbody>\n",
              "</table>\n",
              "<p>392 rows × 9 columns</p>\n",
              "</div>"
            ],
            "text/plain": [
              "      mpg  cylinders  displacement  ...  year  origin                       name\n",
              "0    18.0          8         307.0  ...    70       1  chevrolet chevelle malibu\n",
              "1    15.0          8         350.0  ...    70       1          buick skylark 320\n",
              "2    18.0          8         318.0  ...    70       1         plymouth satellite\n",
              "3    16.0          8         304.0  ...    70       1              amc rebel sst\n",
              "4    17.0          8         302.0  ...    70       1                ford torino\n",
              "..    ...        ...           ...  ...   ...     ...                        ...\n",
              "387  27.0          4         140.0  ...    82       1            ford mustang gl\n",
              "388  44.0          4          97.0  ...    82       2                  vw pickup\n",
              "389  32.0          4         135.0  ...    82       1              dodge rampage\n",
              "390  28.0          4         120.0  ...    82       1                ford ranger\n",
              "391  31.0          4         119.0  ...    82       1                 chevy s-10\n",
              "\n",
              "[392 rows x 9 columns]"
            ]
          },
          "metadata": {},
          "execution_count": 5
        }
      ]
    },
    {
      "cell_type": "markdown",
      "source": [
        "**4.b)** Create a new column, \"mpg01\", that contains a 1 if mpg contains a value above its median, and a 0 if mpg contains a value below its median."
      ],
      "metadata": {
        "id": "rpJxxZkFSjg3"
      }
    },
    {
      "cell_type": "code",
      "source": [
        "np.mean(auto, axis=0)\n",
        "mpg = np.mean(auto.mpg) , axis=0)"
      ],
      "metadata": {
        "id": "aDew85cqA_i4",
        "colab": {
          "base_uri": "https://localhost:8080/",
          "height": 131
        },
        "outputId": "53f53fa8-237b-4f3a-9c14-0074f2269bdc"
      },
      "execution_count": 13,
      "outputs": [
        {
          "output_type": "error",
          "ename": "SyntaxError",
          "evalue": "ignored",
          "traceback": [
            "\u001b[0;36m  File \u001b[0;32m\"<ipython-input-13-1a6050298256>\"\u001b[0;36m, line \u001b[0;32m2\u001b[0m\n\u001b[0;31m    mpg = np.mean(auto.mpg) , axis=0)\u001b[0m\n\u001b[0m                                    ^\u001b[0m\n\u001b[0;31mSyntaxError\u001b[0m\u001b[0;31m:\u001b[0m invalid syntax\n"
          ]
        }
      ]
    },
    {
      "cell_type": "markdown",
      "source": [
        "**4.c)** Do a scatterplot matrix between the columns to evaluate which other features seem most likely to be useful in predicting mpg01. Consider dropping the columns origin and name as they are categorical. Describe your findings."
      ],
      "metadata": {
        "id": "xHvwjfYscqAl"
      }
    },
    {
      "cell_type": "code",
      "source": [
        ""
      ],
      "metadata": {
        "id": "wZU8aWDuBM7P"
      },
      "execution_count": null,
      "outputs": []
    },
    {
      "cell_type": "markdown",
      "source": [
        "**4.d)** Drop the \"name\" and the \"mpg\" columns (the original mpg, not the mpg01). Create two new columns named \"origin1\" and \"origin2\". The first takes the value 1 when column origin is 1, and 0 otherwise; the second takes the value 1 when the column origin is 2 and 0 otherwise. Then, drop column origin."
      ],
      "metadata": {
        "id": "kLf3_ufHhDbt"
      }
    },
    {
      "cell_type": "markdown",
      "source": [
        "**4.e)** Split the data into test and training datasets. Consider a test dataset comprised of 30% of the whole dataset."
      ],
      "metadata": {
        "id": "8168IcmcSjd4"
      }
    },
    {
      "cell_type": "code",
      "source": [
        "from sklearn.model_selection import train_test_split\n",
        "# Establish the idxs of each test and train datasets\n",
        "test_size = 0.3      # Ratio of test dataset\n",
        "\n",
        "X_train , X_test , y_train , y_test = train_test_split (X , y , test_size)\n",
        "\n",
        "\n",
        "\n",
        "idxs_test = sample(range(df.shape[0]), int(test_size * df.shape[0]))  # Sample idxs for test datasets\n",
        "idxs_train = [i for i in range(df.shape[0]) if i not in idxs_test]                 # Obtain the remaining idxs as training"
      ],
      "metadata": {
        "id": "Px_p-ik5Ifjg"
      },
      "execution_count": null,
      "outputs": []
    },
    {
      "cell_type": "markdown",
      "source": [
        "**4.f)** Perform LDA on the training data in order to predict mpg01 using the remaining variables. What is the test error of the model obtained?"
      ],
      "metadata": {
        "id": "IWepa-QISjbZ"
      }
    },
    {
      "cell_type": "markdown",
      "source": [
        "**4.g)** Perform QDA on the training data in order to predict mpg01 using the remaining variables. What is the test error of the model obtained?"
      ],
      "metadata": {
        "id": "YWiMguFvSjWE"
      }
    },
    {
      "cell_type": "code",
      "source": [
        "from sklearn.discriminant_analysis import QuadraticDiscriminantAnalysis\n"
      ],
      "metadata": {
        "id": "dIGRkWMjF18K"
      },
      "execution_count": null,
      "outputs": []
    },
    {
      "cell_type": "markdown",
      "source": [
        "**4.h)** Perform logistic regression on the training data in order to predict mpg01 using the remaining variables. What is the test error of the model obtained?"
      ],
      "metadata": {
        "id": "DFAhEuhSSjOz"
      }
    },
    {
      "cell_type": "markdown",
      "source": [
        "**4.i)** Perform naive Bayes on the training data in order to predict mpg01 using the remaining variables. What is the test error of the model obtained?"
      ],
      "metadata": {
        "id": "dJUvW41ViqMc"
      }
    },
    {
      "cell_type": "code",
      "source": [
        "x = 4"
      ],
      "metadata": {
        "id": "uKAlsvKZKDxM"
      },
      "execution_count": null,
      "outputs": []
    },
    {
      "cell_type": "markdown",
      "source": [
        "**4.j)** Perform KNN on the training data, with several values of K, in order to predict mpg01. Use only the variables \"displacement\", \"horsepower\", and \"weight\". What test errors are obtained? Which value of K seems to perform the best on this data set?"
      ],
      "metadata": {
        "id": "tPRBsCLviqKm"
      }
    },
    {
      "cell_type": "markdown",
      "source": [
        "**4.k)** Calculate the area under curve (AUC) for the LDA, QDA, logistic regression, naive Bayes and for the best value of K for the KNN method. Compare the results."
      ],
      "metadata": {
        "id": "nvhamoK0i2WZ"
      }
    },
    {
      "cell_type": "markdown",
      "source": [
        "## Section 3 -- Bootstrap and k-Fold"
      ],
      "metadata": {
        "id": "jEtBKnHni2GT"
      }
    },
    {
      "cell_type": "markdown",
      "source": [
        "**5.a)** Explain how k-fold cross-validation is implemented"
      ],
      "metadata": {
        "id": "AyCSRMx2pDsm"
      }
    },
    {
      "cell_type": "markdown",
      "source": [
        "**5.b)** What are the advantages and disadvantages of k-Fold cross-validation relative to:\n",
        "\n",
        "1. Validation set approach.\n",
        "2. Leave One Out Cross-Validation (LOOCV)"
      ],
      "metadata": {
        "id": "MbIethdmpcwr"
      }
    },
    {
      "cell_type": "markdown",
      "source": [
        "## Section 4 -- Other Questions"
      ],
      "metadata": {
        "id": "jOcCUxFMpAGw"
      }
    },
    {
      "cell_type": "markdown",
      "source": [
        "**6)** In your group's option, what are the advantages and disadvantages of using a virtual environment when programming in Python?"
      ],
      "metadata": {
        "id": "jUkJU0D7pFWO"
      }
    },
    {
      "cell_type": "markdown",
      "source": [
        "**7)** In your group's opinion, in what circumstances is it better to use Jupyter Notebooks and when is it better to use Google Colab notebooks? Give some specific examples."
      ],
      "metadata": {
        "id": "W8dWu7BXpFTc"
      }
    },
    {
      "cell_type": "markdown",
      "source": [
        "**8)** Enter your GitHub repository webpage."
      ],
      "metadata": {
        "id": "Sl0krfG6pFH6"
      }
    }
  ]
}