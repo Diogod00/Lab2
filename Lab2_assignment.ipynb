{
  "nbformat": 4,
  "nbformat_minor": 0,
  "metadata": {
    "colab": {
      "name": "Lab2_assignment.ipynb",
      "provenance": [],
      "collapsed_sections": [],
      "include_colab_link": true
    },
    "kernelspec": {
      "name": "python3",
      "display_name": "Python 3"
    },
    "language_info": {
      "name": "python"
    }
  },
  "cells": [
    {
      "cell_type": "markdown",
      "metadata": {
        "id": "view-in-github",
        "colab_type": "text"
      },
      "source": [
        "<a href=\"https://colab.research.google.com/github/Diogod00/Lab2/blob/DiogoDantas/Lab2_assignment.ipynb\" target=\"_parent\"><img src=\"https://colab.research.google.com/assets/colab-badge.svg\" alt=\"Open In Colab\"/></a>"
      ]
    },
    {
      "cell_type": "markdown",
      "source": [
        "# Laboratory Session 2 -- Assignment\n",
        "\n",
        "To be delivered until 2021-12-20 23:59:59."
      ],
      "metadata": {
        "id": "JV5YbbVNlCLl"
      }
    },
    {
      "cell_type": "markdown",
      "source": [
        "## Section 1 -- Linear Regression\n",
        "\n",
        "**1.** Consider a dataset with 100 observations, containing a single predictor and a quantitative response. Two different models are fitted to the data, a linear regression ($m_1: Y = \\beta_0 + \\beta_1 X + \\epsilon$) and a cubic regression ($m_2: Y = \\beta_0 + \\beta_1 X + \\beta_2 X^2 + \\beta_3 X^3 + \\epsilon$)."
      ],
      "metadata": {
        "id": "A746fsNRldR4"
      }
    },
    {
      "cell_type": "markdown",
      "source": [
        "**1.a)** Suppose that the actual relation between X and Y is linear. Can the **training** residual sum of squares (RSS) of the linear model be expected to be smaller, larger or equal to the one from the cubic model? Or is there no information to tell? Justify your answer."
      ],
      "metadata": {
        "id": "gOuCfx3sm8hZ"
      }
    },
    {
      "cell_type": "markdown",
      "source": [
        "**1.b)** Answer question 1.a) considering the test RSS rather than the training RSS."
      ],
      "metadata": {
        "id": "f-Z6e3nem88s"
      }
    },
    {
      "cell_type": "markdown",
      "source": [
        "**1.c)** Suppose that the actual relationship between X and Y is not linear, but it is not known how far it is from being linear. What is it expected of the the **training** RSS for the linear compared with the cubic models? Or is there not enough information? Justify your answer."
      ],
      "metadata": {
        "id": "gmhX35ckm9St"
      }
    },
    {
      "cell_type": "markdown",
      "source": [
        "**1.d)** Answer question 1.c) considering the test RSS rather than the training RSS."
      ],
      "metadata": {
        "id": "68b9Gt-Sm9lp"
      }
    },
    {
      "cell_type": "markdown",
      "source": [
        "**2.a)** Load the dataset \"auto.csv\" "
      ],
      "metadata": {
        "id": "JlY6gihzHUm5"
      }
    },
    {
      "cell_type": "code",
      "source": [
        "import numpy as np\n",
        "import pandas as pd\n",
        "import sklearn\n",
        "import matplotlib.pyplot as plt\n",
        "import seaborn as sns\n",
        "import scipy\n",
        "\n",
        "auto = pd.read_csv(\"auto.csv\")\n",
        "auto"
      ],
      "metadata": {
        "id": "fcCuX7Bib17Y",
        "outputId": "8b314b9f-d8b4-4c22-a733-642ed282d574",
        "colab": {
          "base_uri": "https://localhost:8080/",
          "height": 423
        }
      },
      "execution_count": null,
      "outputs": [
        {
          "output_type": "execute_result",
          "data": {
            "text/html": [
              "<div>\n",
              "<style scoped>\n",
              "    .dataframe tbody tr th:only-of-type {\n",
              "        vertical-align: middle;\n",
              "    }\n",
              "\n",
              "    .dataframe tbody tr th {\n",
              "        vertical-align: top;\n",
              "    }\n",
              "\n",
              "    .dataframe thead th {\n",
              "        text-align: right;\n",
              "    }\n",
              "</style>\n",
              "<table border=\"1\" class=\"dataframe\">\n",
              "  <thead>\n",
              "    <tr style=\"text-align: right;\">\n",
              "      <th></th>\n",
              "      <th>mpg</th>\n",
              "      <th>cylinders</th>\n",
              "      <th>displacement</th>\n",
              "      <th>horsepower</th>\n",
              "      <th>weight</th>\n",
              "      <th>acceleration</th>\n",
              "      <th>year</th>\n",
              "      <th>origin</th>\n",
              "      <th>name</th>\n",
              "    </tr>\n",
              "  </thead>\n",
              "  <tbody>\n",
              "    <tr>\n",
              "      <th>0</th>\n",
              "      <td>18.0</td>\n",
              "      <td>8</td>\n",
              "      <td>307.0</td>\n",
              "      <td>130</td>\n",
              "      <td>3504</td>\n",
              "      <td>12.0</td>\n",
              "      <td>70</td>\n",
              "      <td>1</td>\n",
              "      <td>chevrolet chevelle malibu</td>\n",
              "    </tr>\n",
              "    <tr>\n",
              "      <th>1</th>\n",
              "      <td>15.0</td>\n",
              "      <td>8</td>\n",
              "      <td>350.0</td>\n",
              "      <td>165</td>\n",
              "      <td>3693</td>\n",
              "      <td>11.5</td>\n",
              "      <td>70</td>\n",
              "      <td>1</td>\n",
              "      <td>buick skylark 320</td>\n",
              "    </tr>\n",
              "    <tr>\n",
              "      <th>2</th>\n",
              "      <td>18.0</td>\n",
              "      <td>8</td>\n",
              "      <td>318.0</td>\n",
              "      <td>150</td>\n",
              "      <td>3436</td>\n",
              "      <td>11.0</td>\n",
              "      <td>70</td>\n",
              "      <td>1</td>\n",
              "      <td>plymouth satellite</td>\n",
              "    </tr>\n",
              "    <tr>\n",
              "      <th>3</th>\n",
              "      <td>16.0</td>\n",
              "      <td>8</td>\n",
              "      <td>304.0</td>\n",
              "      <td>150</td>\n",
              "      <td>3433</td>\n",
              "      <td>12.0</td>\n",
              "      <td>70</td>\n",
              "      <td>1</td>\n",
              "      <td>amc rebel sst</td>\n",
              "    </tr>\n",
              "    <tr>\n",
              "      <th>4</th>\n",
              "      <td>17.0</td>\n",
              "      <td>8</td>\n",
              "      <td>302.0</td>\n",
              "      <td>140</td>\n",
              "      <td>3449</td>\n",
              "      <td>10.5</td>\n",
              "      <td>70</td>\n",
              "      <td>1</td>\n",
              "      <td>ford torino</td>\n",
              "    </tr>\n",
              "    <tr>\n",
              "      <th>...</th>\n",
              "      <td>...</td>\n",
              "      <td>...</td>\n",
              "      <td>...</td>\n",
              "      <td>...</td>\n",
              "      <td>...</td>\n",
              "      <td>...</td>\n",
              "      <td>...</td>\n",
              "      <td>...</td>\n",
              "      <td>...</td>\n",
              "    </tr>\n",
              "    <tr>\n",
              "      <th>387</th>\n",
              "      <td>27.0</td>\n",
              "      <td>4</td>\n",
              "      <td>140.0</td>\n",
              "      <td>86</td>\n",
              "      <td>2790</td>\n",
              "      <td>15.6</td>\n",
              "      <td>82</td>\n",
              "      <td>1</td>\n",
              "      <td>ford mustang gl</td>\n",
              "    </tr>\n",
              "    <tr>\n",
              "      <th>388</th>\n",
              "      <td>44.0</td>\n",
              "      <td>4</td>\n",
              "      <td>97.0</td>\n",
              "      <td>52</td>\n",
              "      <td>2130</td>\n",
              "      <td>24.6</td>\n",
              "      <td>82</td>\n",
              "      <td>2</td>\n",
              "      <td>vw pickup</td>\n",
              "    </tr>\n",
              "    <tr>\n",
              "      <th>389</th>\n",
              "      <td>32.0</td>\n",
              "      <td>4</td>\n",
              "      <td>135.0</td>\n",
              "      <td>84</td>\n",
              "      <td>2295</td>\n",
              "      <td>11.6</td>\n",
              "      <td>82</td>\n",
              "      <td>1</td>\n",
              "      <td>dodge rampage</td>\n",
              "    </tr>\n",
              "    <tr>\n",
              "      <th>390</th>\n",
              "      <td>28.0</td>\n",
              "      <td>4</td>\n",
              "      <td>120.0</td>\n",
              "      <td>79</td>\n",
              "      <td>2625</td>\n",
              "      <td>18.6</td>\n",
              "      <td>82</td>\n",
              "      <td>1</td>\n",
              "      <td>ford ranger</td>\n",
              "    </tr>\n",
              "    <tr>\n",
              "      <th>391</th>\n",
              "      <td>31.0</td>\n",
              "      <td>4</td>\n",
              "      <td>119.0</td>\n",
              "      <td>82</td>\n",
              "      <td>2720</td>\n",
              "      <td>19.4</td>\n",
              "      <td>82</td>\n",
              "      <td>1</td>\n",
              "      <td>chevy s-10</td>\n",
              "    </tr>\n",
              "  </tbody>\n",
              "</table>\n",
              "<p>392 rows × 9 columns</p>\n",
              "</div>"
            ],
            "text/plain": [
              "      mpg  cylinders  displacement  ...  year  origin                       name\n",
              "0    18.0          8         307.0  ...    70       1  chevrolet chevelle malibu\n",
              "1    15.0          8         350.0  ...    70       1          buick skylark 320\n",
              "2    18.0          8         318.0  ...    70       1         plymouth satellite\n",
              "3    16.0          8         304.0  ...    70       1              amc rebel sst\n",
              "4    17.0          8         302.0  ...    70       1                ford torino\n",
              "..    ...        ...           ...  ...   ...     ...                        ...\n",
              "387  27.0          4         140.0  ...    82       1            ford mustang gl\n",
              "388  44.0          4          97.0  ...    82       2                  vw pickup\n",
              "389  32.0          4         135.0  ...    82       1              dodge rampage\n",
              "390  28.0          4         120.0  ...    82       1                ford ranger\n",
              "391  31.0          4         119.0  ...    82       1                 chevy s-10\n",
              "\n",
              "[392 rows x 9 columns]"
            ]
          },
          "metadata": {},
          "execution_count": 7
        }
      ]
    },
    {
      "cell_type": "markdown",
      "source": [
        "**2.b)** Perform a simple linear regression considering *mpg* as the response and *horsepower* as the predictor. Given the results, comment on the following statements:"
      ],
      "metadata": {
        "id": "BM90R_i8OCik"
      }
    },
    {
      "cell_type": "code",
      "source": [
        "from sklearn.linear_model import LinearRegression\n",
        "from sklearn.metrics import r2_score\n",
        "\n",
        "X = auto['horsepower'].values.reshape(-1, 1)  \n",
        "Y = auto['mpg'].values.reshape(-1, 1)  \n",
        "\n",
        "regr = LinearRegression()\n",
        "regr.fit(X,Y)\n",
        "print('mpg = {:.4f} + {:.4f} * horsepower'.format(regr.intercept_[0], regr.coef_[0][0]))\n",
        "\n",
        "mpg_pred = regr.predict(X)\n",
        "r2_value = r2_score(y, mpg_pred)\n",
        "print('R^2: {:.4f}'.format(r2_value))"
      ],
      "metadata": {
        "id": "P6OL4n6Agb1G",
        "outputId": "b9e41e36-1d45-4c48-ba88-aff3ed9790b6",
        "colab": {
          "base_uri": "https://localhost:8080/"
        }
      },
      "execution_count": null,
      "outputs": [
        {
          "output_type": "stream",
          "name": "stdout",
          "text": [
            "mpg = 39.9359 + -0.1578 * horsepower\n",
            "R^2: 0.6059\n"
          ]
        }
      ]
    },
    {
      "cell_type": "markdown",
      "source": [
        "    i) Are the predictor and response statistically related?"
      ],
      "metadata": {
        "id": "2BlMbcTJOsDD"
      }
    },
    {
      "cell_type": "markdown",
      "source": [
        "    ii) How strong is the relationship between predictor and response? (*Hint: comment on the R^2 score of the model*)"
      ],
      "metadata": {
        "id": "ir5VRfrmO8o6"
      }
    },
    {
      "cell_type": "markdown",
      "source": [
        "    iii) Is the relationship between the predictor and response positive or negative?"
      ],
      "metadata": {
        "id": "D9JSjxC3O8x3"
      }
    },
    {
      "cell_type": "markdown",
      "source": [
        "    iv) What is the predicted value of mpg when the horsepower is 98?"
      ],
      "metadata": {
        "id": "mIzssLawO84u"
      }
    },
    {
      "cell_type": "markdown",
      "source": [
        "**2.c)** Plot a scatter plot of the response and predictor, along with the regression line."
      ],
      "metadata": {
        "id": "yRYL0_TeQQfp"
      }
    },
    {
      "cell_type": "code",
      "source": [
        "limits_horsepower = np.array([min(X), max(X)])\n",
        "mpg_vals = regr.intercept_[0] + regr.coef_[0][0]*limits_horsepower\n",
        "\n",
        "plt.rcParams['figure.figsize'] = [15, 6]\n",
        "plt.plot(auto['horsepower'], auto['mpg'], '.r')\n",
        "plt.plot(limits_horsepower, mpg_vals, 'b-')\n",
        "plt.show()"
      ],
      "metadata": {
        "id": "Vnd5CZ_vqpMd",
        "outputId": "cfe77ef0-3494-44b8-abc0-0c601243cf1e",
        "colab": {
          "base_uri": "https://localhost:8080/",
          "height": 374
        }
      },
      "execution_count": null,
      "outputs": [
        {
          "output_type": "display_data",
          "data": {
            "image/png": "[encoded data removed]",
            "text/plain": [
              "<Figure size 1080x432 with 1 Axes>"
            ]
          },
          "metadata": {
            "needs_background": "light"
          }
        }
      ]
    },
    {
      "cell_type": "markdown",
      "source": [
        "## Section 2 -- Classification"
      ],
      "metadata": {
        "id": "1xBHkVadQ5Ot"
      }
    },
    {
      "cell_type": "markdown",
      "source": [
        "**3)** Suppose that a dataset is divided into two equally-sized training and test sets, and then try out two different classification procedures:\n",
        "\n",
        "* The first is the logistic regression, obtaining an error rate of 20% on the training data and 30% on the test data.\n",
        "* The second is a 1-nearest neighbors, with an average error rate (averaged over test and training datasets) of 18%.\n",
        "\n",
        "Based on these results, which method is preferred for classifying new observations? Why?\n",
        "\n",
        "Quando se menciona 1-nearest neighbors, assumimos que **K=1** (o dataset irá dividir-se em 1 parte). Isto significa que este método irá escolher a amostra de treino mais próxima da nossa amostra de teste para validação. Visto que a nossa amostra de teste se encontra no dataset de treino, tendo em conta que apenas temos uma parte, o vizinho mais próximo será o prórprio dado. Podemos então assumir que o **erro de treino** quando K=1 é de **0%**. \n",
        "\n",
        "Para a classificação de novas observações, interessa-nos o error test, visto que é este que está associado ao erro médio proveniente da predição da resposta a estes novos dados. \n",
        "\n",
        "Do enunciado tiramos que para o método de 1-nearest neighbors temos uma média entre teste e treino de 18%, e sendo o erro de treino 0%, conclui-se que o **erro de teste** é então **36%**. Sendo este superior a 30%, que é a taxa de erro de teste usando logistic regression, pode-se dizer que o método preferencial para classificar novas observações neste caso é o **logistic regression**."
      ],
      "metadata": {
        "id": "SIpGTVYkRD9A"
      }
    },
    {
      "cell_type": "markdown",
      "source": [
        "**4.a)** Load the dataset \"auto.csv\""
      ],
      "metadata": {
        "id": "z0Ws08q_SVLO"
      }
    },
    {
      "cell_type": "code",
      "source": [
        "import numpy as np\n",
        "import pandas as pd\n",
        "import sklearn\n",
        "import matplotlib.pyplot as plt\n",
        "import seaborn as sns\n",
        "import scipy\n",
        "import plotly.express as px\n",
        "\n",
        "auto = pd.read_csv(\"auto.csv\")\n",
        "auto"
      ],
      "metadata": {
        "id": "nhV40M6q_AXh",
        "outputId": "9d69f6b7-09a0-4ca1-d041-ab2523e0ca80",
        "colab": {
          "base_uri": "https://localhost:8080/",
          "height": 423
        }
      },
      "execution_count": 8,
      "outputs": [
        {
          "output_type": "execute_result",
          "data": {
            "text/html": [
              "<div>\n",
              "<style scoped>\n",
              "    .dataframe tbody tr th:only-of-type {\n",
              "        vertical-align: middle;\n",
              "    }\n",
              "\n",
              "    .dataframe tbody tr th {\n",
              "        vertical-align: top;\n",
              "    }\n",
              "\n",
              "    .dataframe thead th {\n",
              "        text-align: right;\n",
              "    }\n",
              "</style>\n",
              "<table border=\"1\" class=\"dataframe\">\n",
              "  <thead>\n",
              "    <tr style=\"text-align: right;\">\n",
              "      <th></th>\n",
              "      <th>mpg</th>\n",
              "      <th>cylinders</th>\n",
              "      <th>displacement</th>\n",
              "      <th>horsepower</th>\n",
              "      <th>weight</th>\n",
              "      <th>acceleration</th>\n",
              "      <th>year</th>\n",
              "      <th>origin</th>\n",
              "      <th>name</th>\n",
              "    </tr>\n",
              "  </thead>\n",
              "  <tbody>\n",
              "    <tr>\n",
              "      <th>0</th>\n",
              "      <td>18.0</td>\n",
              "      <td>8</td>\n",
              "      <td>307.0</td>\n",
              "      <td>130</td>\n",
              "      <td>3504</td>\n",
              "      <td>12.0</td>\n",
              "      <td>70</td>\n",
              "      <td>1</td>\n",
              "      <td>chevrolet chevelle malibu</td>\n",
              "    </tr>\n",
              "    <tr>\n",
              "      <th>1</th>\n",
              "      <td>15.0</td>\n",
              "      <td>8</td>\n",
              "      <td>350.0</td>\n",
              "      <td>165</td>\n",
              "      <td>3693</td>\n",
              "      <td>11.5</td>\n",
              "      <td>70</td>\n",
              "      <td>1</td>\n",
              "      <td>buick skylark 320</td>\n",
              "    </tr>\n",
              "    <tr>\n",
              "      <th>2</th>\n",
              "      <td>18.0</td>\n",
              "      <td>8</td>\n",
              "      <td>318.0</td>\n",
              "      <td>150</td>\n",
              "      <td>3436</td>\n",
              "      <td>11.0</td>\n",
              "      <td>70</td>\n",
              "      <td>1</td>\n",
              "      <td>plymouth satellite</td>\n",
              "    </tr>\n",
              "    <tr>\n",
              "      <th>3</th>\n",
              "      <td>16.0</td>\n",
              "      <td>8</td>\n",
              "      <td>304.0</td>\n",
              "      <td>150</td>\n",
              "      <td>3433</td>\n",
              "      <td>12.0</td>\n",
              "      <td>70</td>\n",
              "      <td>1</td>\n",
              "      <td>amc rebel sst</td>\n",
              "    </tr>\n",
              "    <tr>\n",
              "      <th>4</th>\n",
              "      <td>17.0</td>\n",
              "      <td>8</td>\n",
              "      <td>302.0</td>\n",
              "      <td>140</td>\n",
              "      <td>3449</td>\n",
              "      <td>10.5</td>\n",
              "      <td>70</td>\n",
              "      <td>1</td>\n",
              "      <td>ford torino</td>\n",
              "    </tr>\n",
              "    <tr>\n",
              "      <th>...</th>\n",
              "      <td>...</td>\n",
              "      <td>...</td>\n",
              "      <td>...</td>\n",
              "      <td>...</td>\n",
              "      <td>...</td>\n",
              "      <td>...</td>\n",
              "      <td>...</td>\n",
              "      <td>...</td>\n",
              "      <td>...</td>\n",
              "    </tr>\n",
              "    <tr>\n",
              "      <th>387</th>\n",
              "      <td>27.0</td>\n",
              "      <td>4</td>\n",
              "      <td>140.0</td>\n",
              "      <td>86</td>\n",
              "      <td>2790</td>\n",
              "      <td>15.6</td>\n",
              "      <td>82</td>\n",
              "      <td>1</td>\n",
              "      <td>ford mustang gl</td>\n",
              "    </tr>\n",
              "    <tr>\n",
              "      <th>388</th>\n",
              "      <td>44.0</td>\n",
              "      <td>4</td>\n",
              "      <td>97.0</td>\n",
              "      <td>52</td>\n",
              "      <td>2130</td>\n",
              "      <td>24.6</td>\n",
              "      <td>82</td>\n",
              "      <td>2</td>\n",
              "      <td>vw pickup</td>\n",
              "    </tr>\n",
              "    <tr>\n",
              "      <th>389</th>\n",
              "      <td>32.0</td>\n",
              "      <td>4</td>\n",
              "      <td>135.0</td>\n",
              "      <td>84</td>\n",
              "      <td>2295</td>\n",
              "      <td>11.6</td>\n",
              "      <td>82</td>\n",
              "      <td>1</td>\n",
              "      <td>dodge rampage</td>\n",
              "    </tr>\n",
              "    <tr>\n",
              "      <th>390</th>\n",
              "      <td>28.0</td>\n",
              "      <td>4</td>\n",
              "      <td>120.0</td>\n",
              "      <td>79</td>\n",
              "      <td>2625</td>\n",
              "      <td>18.6</td>\n",
              "      <td>82</td>\n",
              "      <td>1</td>\n",
              "      <td>ford ranger</td>\n",
              "    </tr>\n",
              "    <tr>\n",
              "      <th>391</th>\n",
              "      <td>31.0</td>\n",
              "      <td>4</td>\n",
              "      <td>119.0</td>\n",
              "      <td>82</td>\n",
              "      <td>2720</td>\n",
              "      <td>19.4</td>\n",
              "      <td>82</td>\n",
              "      <td>1</td>\n",
              "      <td>chevy s-10</td>\n",
              "    </tr>\n",
              "  </tbody>\n",
              "</table>\n",
              "<p>392 rows × 9 columns</p>\n",
              "</div>"
            ],
            "text/plain": [
              "      mpg  cylinders  displacement  ...  year  origin                       name\n",
              "0    18.0          8         307.0  ...    70       1  chevrolet chevelle malibu\n",
              "1    15.0          8         350.0  ...    70       1          buick skylark 320\n",
              "2    18.0          8         318.0  ...    70       1         plymouth satellite\n",
              "3    16.0          8         304.0  ...    70       1              amc rebel sst\n",
              "4    17.0          8         302.0  ...    70       1                ford torino\n",
              "..    ...        ...           ...  ...   ...     ...                        ...\n",
              "387  27.0          4         140.0  ...    82       1            ford mustang gl\n",
              "388  44.0          4          97.0  ...    82       2                  vw pickup\n",
              "389  32.0          4         135.0  ...    82       1              dodge rampage\n",
              "390  28.0          4         120.0  ...    82       1                ford ranger\n",
              "391  31.0          4         119.0  ...    82       1                 chevy s-10\n",
              "\n",
              "[392 rows x 9 columns]"
            ]
          },
          "metadata": {},
          "execution_count": 8
        }
      ]
    },
    {
      "cell_type": "markdown",
      "source": [
        "**4.b)** Create a new column, \"mpg01\", that contains a 1 if mpg contains a value above its median, and a 0 if mpg contains a value below its median."
      ],
      "metadata": {
        "id": "rpJxxZkFSjg3"
      }
    },
    {
      "cell_type": "code",
      "source": [
        "array1 = auto.values \n",
        "mediana = np.median([array1[:,0]], axis=1)\n",
        "mgp01 = mediana\n",
        "# Comparação dos valores de mgp com a sua mediana\n",
        "raw_target = array1[:,0]\n",
        "aux1 = np.where( raw_target >= mgp01, 1, 0)\n",
        "aux2= pd.DataFrame(aux1,columns=['mgp01'])\n",
        "result1 = np.concatenate((auto, aux2), axis=1)\n",
        "\n",
        "matrix1=pd.DataFrame(result1,columns=['mgp','cylinders','displacement','horsepower','weight','accelaration','year','origin','name','mgp01'])\n",
        "matrix1"
      ],
      "metadata": {
        "id": "aDew85cqA_i4",
        "colab": {
          "base_uri": "https://localhost:8080/",
          "height": 423
        },
        "outputId": "e8a6ebda-2121-4a87-f1e0-e8206de679c1"
      },
      "execution_count": 11,
      "outputs": [
        {
          "output_type": "execute_result",
          "data": {
            "text/html": [
              "<div>\n",
              "<style scoped>\n",
              "    .dataframe tbody tr th:only-of-type {\n",
              "        vertical-align: middle;\n",
              "    }\n",
              "\n",
              "    .dataframe tbody tr th {\n",
              "        vertical-align: top;\n",
              "    }\n",
              "\n",
              "    .dataframe thead th {\n",
              "        text-align: right;\n",
              "    }\n",
              "</style>\n",
              "<table border=\"1\" class=\"dataframe\">\n",
              "  <thead>\n",
              "    <tr style=\"text-align: right;\">\n",
              "      <th></th>\n",
              "      <th>mgp</th>\n",
              "      <th>cylinders</th>\n",
              "      <th>displacement</th>\n",
              "      <th>horsepower</th>\n",
              "      <th>weight</th>\n",
              "      <th>accelaration</th>\n",
              "      <th>year</th>\n",
              "      <th>origin</th>\n",
              "      <th>name</th>\n",
              "      <th>mgp01</th>\n",
              "    </tr>\n",
              "  </thead>\n",
              "  <tbody>\n",
              "    <tr>\n",
              "      <th>0</th>\n",
              "      <td>18</td>\n",
              "      <td>8</td>\n",
              "      <td>307</td>\n",
              "      <td>130</td>\n",
              "      <td>3504</td>\n",
              "      <td>12</td>\n",
              "      <td>70</td>\n",
              "      <td>1</td>\n",
              "      <td>chevrolet chevelle malibu</td>\n",
              "      <td>0</td>\n",
              "    </tr>\n",
              "    <tr>\n",
              "      <th>1</th>\n",
              "      <td>15</td>\n",
              "      <td>8</td>\n",
              "      <td>350</td>\n",
              "      <td>165</td>\n",
              "      <td>3693</td>\n",
              "      <td>11.5</td>\n",
              "      <td>70</td>\n",
              "      <td>1</td>\n",
              "      <td>buick skylark 320</td>\n",
              "      <td>0</td>\n",
              "    </tr>\n",
              "    <tr>\n",
              "      <th>2</th>\n",
              "      <td>18</td>\n",
              "      <td>8</td>\n",
              "      <td>318</td>\n",
              "      <td>150</td>\n",
              "      <td>3436</td>\n",
              "      <td>11</td>\n",
              "      <td>70</td>\n",
              "      <td>1</td>\n",
              "      <td>plymouth satellite</td>\n",
              "      <td>0</td>\n",
              "    </tr>\n",
              "    <tr>\n",
              "      <th>3</th>\n",
              "      <td>16</td>\n",
              "      <td>8</td>\n",
              "      <td>304</td>\n",
              "      <td>150</td>\n",
              "      <td>3433</td>\n",
              "      <td>12</td>\n",
              "      <td>70</td>\n",
              "      <td>1</td>\n",
              "      <td>amc rebel sst</td>\n",
              "      <td>0</td>\n",
              "    </tr>\n",
              "    <tr>\n",
              "      <th>4</th>\n",
              "      <td>17</td>\n",
              "      <td>8</td>\n",
              "      <td>302</td>\n",
              "      <td>140</td>\n",
              "      <td>3449</td>\n",
              "      <td>10.5</td>\n",
              "      <td>70</td>\n",
              "      <td>1</td>\n",
              "      <td>ford torino</td>\n",
              "      <td>0</td>\n",
              "    </tr>\n",
              "    <tr>\n",
              "      <th>...</th>\n",
              "      <td>...</td>\n",
              "      <td>...</td>\n",
              "      <td>...</td>\n",
              "      <td>...</td>\n",
              "      <td>...</td>\n",
              "      <td>...</td>\n",
              "      <td>...</td>\n",
              "      <td>...</td>\n",
              "      <td>...</td>\n",
              "      <td>...</td>\n",
              "    </tr>\n",
              "    <tr>\n",
              "      <th>387</th>\n",
              "      <td>27</td>\n",
              "      <td>4</td>\n",
              "      <td>140</td>\n",
              "      <td>86</td>\n",
              "      <td>2790</td>\n",
              "      <td>15.6</td>\n",
              "      <td>82</td>\n",
              "      <td>1</td>\n",
              "      <td>ford mustang gl</td>\n",
              "      <td>1</td>\n",
              "    </tr>\n",
              "    <tr>\n",
              "      <th>388</th>\n",
              "      <td>44</td>\n",
              "      <td>4</td>\n",
              "      <td>97</td>\n",
              "      <td>52</td>\n",
              "      <td>2130</td>\n",
              "      <td>24.6</td>\n",
              "      <td>82</td>\n",
              "      <td>2</td>\n",
              "      <td>vw pickup</td>\n",
              "      <td>1</td>\n",
              "    </tr>\n",
              "    <tr>\n",
              "      <th>389</th>\n",
              "      <td>32</td>\n",
              "      <td>4</td>\n",
              "      <td>135</td>\n",
              "      <td>84</td>\n",
              "      <td>2295</td>\n",
              "      <td>11.6</td>\n",
              "      <td>82</td>\n",
              "      <td>1</td>\n",
              "      <td>dodge rampage</td>\n",
              "      <td>1</td>\n",
              "    </tr>\n",
              "    <tr>\n",
              "      <th>390</th>\n",
              "      <td>28</td>\n",
              "      <td>4</td>\n",
              "      <td>120</td>\n",
              "      <td>79</td>\n",
              "      <td>2625</td>\n",
              "      <td>18.6</td>\n",
              "      <td>82</td>\n",
              "      <td>1</td>\n",
              "      <td>ford ranger</td>\n",
              "      <td>1</td>\n",
              "    </tr>\n",
              "    <tr>\n",
              "      <th>391</th>\n",
              "      <td>31</td>\n",
              "      <td>4</td>\n",
              "      <td>119</td>\n",
              "      <td>82</td>\n",
              "      <td>2720</td>\n",
              "      <td>19.4</td>\n",
              "      <td>82</td>\n",
              "      <td>1</td>\n",
              "      <td>chevy s-10</td>\n",
              "      <td>1</td>\n",
              "    </tr>\n",
              "  </tbody>\n",
              "</table>\n",
              "<p>392 rows × 10 columns</p>\n",
              "</div>"
            ],
            "text/plain": [
              "    mgp cylinders displacement  ... origin                       name mgp01\n",
              "0    18         8          307  ...      1  chevrolet chevelle malibu     0\n",
              "1    15         8          350  ...      1          buick skylark 320     0\n",
              "2    18         8          318  ...      1         plymouth satellite     0\n",
              "3    16         8          304  ...      1              amc rebel sst     0\n",
              "4    17         8          302  ...      1                ford torino     0\n",
              "..   ..       ...          ...  ...    ...                        ...   ...\n",
              "387  27         4          140  ...      1            ford mustang gl     1\n",
              "388  44         4           97  ...      2                  vw pickup     1\n",
              "389  32         4          135  ...      1              dodge rampage     1\n",
              "390  28         4          120  ...      1                ford ranger     1\n",
              "391  31         4          119  ...      1                 chevy s-10     1\n",
              "\n",
              "[392 rows x 10 columns]"
            ]
          },
          "metadata": {},
          "execution_count": 11
        }
      ]
    },
    {
      "cell_type": "markdown",
      "source": [
        "**4.c)** Do a scatterplot matrix between the columns to evaluate which other features seem most likely to be useful in predicting mpg01. Consider dropping the columns origin and name as they are categorical. Describe your findings."
      ],
      "metadata": {
        "id": "xHvwjfYscqAl"
      }
    },
    {
      "cell_type": "code",
      "source": [
        "fig = px.scatter_matrix(matrix1, dimensions=['mgp','cylinders','displacement','horsepower','weight','accelaration','year'], color=\"mgp01\") # remove underscore\n",
        "#    labels={col:col.replace('_', ' ') for col in df.columns}\n",
        "fig.update_traces(diagonal_visible=False)\n",
        "fig.show()\n",
        "\n",
        "## Import pearsonr function from scipy -- calculate the correlation and p-value between two columns\n",
        "from scipy.stats import pearsonr\n",
        "\n",
        "## Calculate the correlations between the columns\n",
        "df = auto.drop(columns= ['name','origin'])\n",
        "auto_corrs = df.corr(method='pearson')\n",
        "\n",
        "## Calculate the p-value, as the second element of the response from the pearsonr function. \n",
        "pval = df.corr(method=lambda x, y: pearsonr(x, y)[1])\n",
        "\n",
        "## Plot the correlation matrix using seaborn's heatmap function\n",
        "plt.subplots(figsize=(15, 15))\n",
        "heatmap = sns.heatmap(auto_corrs, square = True, cmap = 'coolwarm', annot = True)\n",
        "\n",
        "#plt.rcParams['figure.figsize'] = [15, 6]\n",
        "#plt.plot(df['lstat'], df['medv'], '.r')\n",
        "#plt.show()"
      ],
      "metadata": {
        "id": "wZU8aWDuBM7P",
        "outputId": "1cb8adb1-8d48-43f8-e9cb-12d584400210",
        "colab": {
          "base_uri": "https://localhost:8080/",
          "height": 1000
        }
      },
      "execution_count": 12,
      "outputs": [
        {
          "output_type": "display_data",
          "data": {
            "text/html": [
              "<html>\n",
              "<head><meta charset=\"utf-8\" /></head>\n",
              "<body>\n",
              "    <div>\n",
              "            <script src=\"https://cdnjs.cloudflare.com/ajax/libs/mathjax/2.7.5/MathJax.js?config=TeX-AMS-MML_SVG\"></script><script type=\"text/javascript\">if (window.MathJax) {MathJax.Hub.Config({SVG: {font: \"STIX-Web\"}});}</script>\n",
              "                <script type=\"text/javascript\">window.PlotlyConfig = {MathJaxConfig: 'local'};</script>\n",
              "        <script src=\"https://cdn.plot.ly/plotly-latest.min.js\"></script>    \n",
              "            <div id=\"d21d48e5-f7dd-4562-a5f0-f5f32bc91cbb\" class=\"plotly-graph-div\" style=\"height:525px; width:100%;\"></div>\n",
              "            <script type=\"text/javascript\">\n",
              "                \n",
              "                    window.PLOTLYENV=window.PLOTLYENV || {};\n",
              "                    \n",
              "                if (document.getElementById(\"d21d48e5-f7dd-4562-a5f0-f5f32bc91cbb\")) {\n",
              "                    Plotly.newPlot(\n",
              "                        'd21d48e5-f7dd-4562-a5f0-f5f32bc91cbb',\n",
              "                        [{\"diagonal\": {\"visible\": false}, \"dimensions\": [{\"axis\": {\"matches\": true}, \"label\": \"mgp\", \"values\": [18.0, 15.0, 18.0, 16.0, 17.0, 15.0, 14.0, 14.0, 14.0, 15.0, 15.0, 14.0, 15.0, 14.0, 22.0, 18.0, 21.0, 21.0, 10.0, 10.0, 11.0, 9.0, 19.0, 16.0, 17.0, 19.0, 18.0, 14.0, 14.0, 14.0, 14.0, 12.0, 13.0, 13.0, 18.0, 22.0, 19.0, 18.0, 20.0, 21.0, 13.0, 14.0, 15.0, 14.0, 17.0, 11.0, 13.0, 12.0, 13.0, 19.0, 15.0, 13.0, 13.0, 14.0, 18.0, 22.0, 21.0, 22.0, 13.0, 14.0, 13.0, 14.0, 15.0, 12.0, 13.0, 13.0, 14.0, 13.0, 12.0, 13.0, 18.0, 16.0, 18.0, 18.0, 11.0, 12.0, 13.0, 12.0, 18.0, 20.0, 21.0, 22.0, 18.0, 19.0, 21.0, 15.0, 16.0, 20.0, 19.0, 15.0, 20.0, 11.0, 20.0, 19.0, 15.0, 16.0, 16.0, 18.0, 16.0, 13.0, 14.0, 14.0, 14.0, 19.0, 18.0, 15.0, 15.0, 16.0, 15.0, 16.0, 14.0, 17.0, 16.0, 15.0, 18.0, 21.0, 20.0, 13.0, 20.0, 18.0, 19.0, 22.0, 17.5, 16.0, 15.5, 14.5, 22.0, 22.0, 22.5, 20.0, 18.0, 18.5, 17.5, 20.0, 13.0, 19.0, 19.0, 16.5, 16.5, 13.0, 13.0, 13.0, 17.5, 17.0, 15.5, 15.0, 17.5, 20.5, 19.0, 18.5, 16.0, 15.5, 15.5, 16.0, 22.0, 21.5, 21.5, 19.9, 19.4, 20.2, 19.2, 20.5, 20.2, 20.5, 19.4, 20.6, 20.8, 18.6, 18.1, 19.2, 17.7, 18.1, 17.5, 21.1, 20.3, 17.0, 21.6, 16.2, 21.5, 19.8, 22.3, 20.2, 20.6, 17.0, 17.6, 16.5, 18.2, 16.9, 15.5, 19.2, 18.5, 19.1, 22.4, 20.2, 17.6, 22.0]}, {\"axis\": {\"matches\": true}, \"label\": \"cylinders\", \"values\": [8, 8, 8, 8, 8, 8, 8, 8, 8, 8, 8, 8, 8, 8, 6, 6, 6, 6, 8, 8, 8, 8, 6, 6, 6, 6, 6, 8, 8, 8, 8, 8, 8, 8, 6, 4, 6, 6, 4, 4, 8, 8, 8, 8, 8, 8, 8, 8, 8, 3, 8, 8, 8, 8, 4, 4, 4, 4, 8, 8, 8, 8, 8, 8, 8, 8, 8, 8, 8, 8, 6, 6, 6, 6, 8, 8, 8, 8, 6, 4, 4, 4, 3, 4, 6, 8, 8, 4, 4, 8, 6, 8, 6, 6, 6, 6, 6, 6, 8, 8, 8, 8, 8, 6, 6, 6, 6, 8, 8, 8, 8, 6, 6, 6, 6, 6, 8, 8, 6, 6, 6, 4, 8, 8, 8, 8, 6, 6, 6, 6, 6, 6, 6, 4, 8, 4, 6, 6, 8, 8, 8, 8, 8, 8, 8, 8, 6, 6, 6, 6, 8, 8, 8, 8, 6, 4, 3, 8, 8, 8, 6, 6, 6, 6, 6, 6, 6, 6, 6, 8, 6, 8, 8, 4, 5, 6, 4, 6, 6, 6, 4, 6, 6, 8, 8, 8, 8, 8, 8, 8, 8, 6, 6, 6, 6, 6]}, {\"axis\": {\"matches\": true}, \"label\": \"displacement\", \"values\": [307.0, 350.0, 318.0, 304.0, 302.0, 429.0, 454.0, 440.0, 455.0, 390.0, 383.0, 340.0, 400.0, 455.0, 198.0, 199.0, 200.0, 199.0, 360.0, 307.0, 318.0, 304.0, 232.0, 225.0, 250.0, 250.0, 232.0, 350.0, 400.0, 351.0, 318.0, 383.0, 400.0, 400.0, 258.0, 140.0, 250.0, 250.0, 140.0, 122.0, 350.0, 400.0, 318.0, 351.0, 304.0, 429.0, 350.0, 350.0, 400.0, 70.0, 304.0, 307.0, 302.0, 318.0, 121.0, 121.0, 120.0, 122.0, 350.0, 304.0, 350.0, 302.0, 318.0, 429.0, 400.0, 351.0, 318.0, 440.0, 455.0, 360.0, 225.0, 250.0, 232.0, 250.0, 400.0, 400.0, 360.0, 350.0, 232.0, 97.0, 140.0, 108.0, 70.0, 122.0, 155.0, 350.0, 400.0, 114.0, 121.0, 318.0, 156.0, 350.0, 198.0, 232.0, 250.0, 250.0, 258.0, 225.0, 302.0, 350.0, 318.0, 302.0, 304.0, 225.0, 250.0, 250.0, 250.0, 400.0, 350.0, 318.0, 351.0, 231.0, 250.0, 258.0, 225.0, 231.0, 262.0, 302.0, 232.0, 171.0, 232.0, 121.0, 305.0, 318.0, 304.0, 351.0, 225.0, 250.0, 232.0, 225.0, 250.0, 250.0, 258.0, 130.0, 318.0, 120.0, 156.0, 168.0, 350.0, 350.0, 302.0, 318.0, 305.0, 260.0, 318.0, 302.0, 250.0, 231.0, 225.0, 250.0, 400.0, 350.0, 400.0, 351.0, 146.0, 121.0, 80.0, 260.0, 318.0, 302.0, 231.0, 200.0, 200.0, 225.0, 232.0, 231.0, 200.0, 225.0, 258.0, 305.0, 231.0, 302.0, 318.0, 134.0, 131.0, 163.0, 121.0, 163.0, 231.0, 200.0, 140.0, 232.0, 225.0, 305.0, 302.0, 351.0, 318.0, 350.0, 351.0, 267.0, 360.0, 225.0, 231.0, 200.0, 225.0, 232.0]}, {\"axis\": {\"matches\": true}, \"label\": \"horsepower\", \"values\": [130, 165, 150, 150, 140, 198, 220, 215, 225, 190, 170, 160, 150, 225, 95, 97, 85, 90, 215, 200, 210, 193, 100, 105, 100, 88, 100, 165, 175, 153, 150, 180, 170, 175, 110, 72, 100, 88, 90, 86, 165, 175, 150, 153, 150, 208, 155, 160, 190, 97, 150, 130, 140, 150, 112, 76, 87, 86, 175, 150, 145, 137, 150, 198, 150, 158, 150, 215, 225, 175, 105, 100, 100, 88, 150, 167, 170, 180, 100, 88, 72, 94, 90, 85, 107, 145, 230, 91, 112, 150, 122, 180, 95, 100, 100, 100, 110, 105, 140, 150, 150, 140, 150, 95, 105, 72, 72, 170, 145, 150, 148, 110, 105, 110, 95, 110, 110, 129, 100, 97, 90, 98, 140, 150, 120, 152, 100, 105, 90, 100, 78, 110, 95, 102, 150, 88, 108, 120, 180, 145, 130, 150, 145, 110, 145, 130, 110, 105, 100, 98, 180, 170, 190, 149, 97, 110, 110, 110, 140, 139, 105, 95, 85, 100, 90, 105, 85, 110, 120, 145, 165, 139, 140, 95, 103, 125, 115, 133, 115, 85, 88, 90, 110, 130, 129, 138, 135, 155, 142, 125, 150, 90, 110, 88, 85, 112]}, {\"axis\": {\"matches\": true}, \"label\": \"weight\", \"values\": [3504, 3693, 3436, 3433, 3449, 4341, 4354, 4312, 4425, 3850, 3563, 3609, 3761, 3086, 2833, 2774, 2587, 2648, 4615, 4376, 4382, 4732, 2634, 3439, 3329, 3302, 3288, 4209, 4464, 4154, 4096, 4955, 4746, 5140, 2962, 2408, 3282, 3139, 2408, 2226, 4274, 4385, 4135, 4129, 3672, 4633, 4502, 4456, 4422, 2330, 3892, 4098, 4294, 4077, 2933, 2511, 2979, 2395, 4100, 3672, 3988, 4042, 3777, 4952, 4464, 4363, 4237, 4735, 4951, 3821, 3121, 3278, 2945, 3021, 4997, 4906, 4654, 4499, 2789, 2279, 2401, 2379, 2124, 2310, 2472, 4082, 4278, 2582, 2868, 3399, 2807, 3664, 3102, 2901, 3336, 3781, 3632, 3613, 4141, 4699, 4457, 4638, 4257, 3264, 3459, 3432, 3158, 4668, 4440, 4498, 4657, 3907, 3897, 3730, 3785, 3039, 3221, 3169, 2914, 2984, 3211, 2945, 4215, 4190, 3962, 4215, 3233, 3353, 3085, 3651, 3574, 3645, 3193, 3150, 3940, 3270, 2930, 3820, 4380, 4055, 3870, 3755, 3880, 4060, 4140, 4295, 3520, 3425, 3630, 3525, 4220, 4165, 4325, 4335, 2815, 2600, 2720, 3365, 3735, 3570, 3535, 3155, 2965, 3430, 3210, 3380, 3070, 3620, 3410, 3425, 3445, 3205, 4080, 2515, 2830, 3140, 2795, 3410, 3245, 2990, 2890, 3265, 3360, 3840, 3725, 3955, 3830, 4360, 4054, 3605, 3940, 3381, 3415, 3060, 3465, 2835]}, {\"axis\": {\"matches\": true}, \"label\": \"accelaration\", \"values\": [12.0, 11.5, 11.0, 12.0, 10.5, 10.0, 9.0, 8.5, 10.0, 8.5, 10.0, 8.0, 9.5, 10.0, 15.5, 15.5, 16.0, 15.0, 14.0, 15.0, 13.5, 18.5, 13.0, 15.5, 15.5, 15.5, 15.5, 12.0, 11.5, 13.5, 13.0, 11.5, 12.0, 12.0, 13.5, 19.0, 15.0, 14.5, 19.5, 16.5, 12.0, 12.0, 13.5, 13.0, 11.5, 11.0, 13.5, 13.5, 12.5, 13.5, 12.5, 14.0, 16.0, 14.0, 14.5, 18.0, 19.5, 16.0, 13.0, 11.5, 13.0, 14.5, 12.5, 11.5, 12.0, 13.0, 14.5, 11.0, 11.0, 11.0, 16.5, 18.0, 16.0, 16.5, 14.0, 12.5, 13.0, 12.5, 15.0, 19.0, 19.5, 16.5, 13.5, 18.5, 14.0, 13.0, 9.5, 14.0, 15.5, 11.0, 13.5, 11.0, 16.5, 16.0, 17.0, 17.0, 18.0, 16.5, 14.0, 14.5, 13.5, 16.0, 15.5, 16.0, 16.0, 21.0, 19.5, 11.5, 14.0, 14.5, 13.5, 21.0, 18.5, 19.0, 19.0, 15.0, 13.5, 12.0, 16.0, 14.5, 17.0, 14.5, 13.0, 13.0, 13.9, 12.8, 15.4, 14.5, 17.6, 17.7, 21.0, 16.2, 17.8, 15.7, 13.2, 21.9, 15.5, 16.7, 12.1, 12.0, 15.0, 14.0, 12.5, 19.0, 13.7, 14.9, 16.4, 16.9, 17.7, 19.0, 11.1, 11.4, 12.2, 14.5, 14.5, 12.8, 13.5, 15.5, 13.2, 12.8, 19.2, 18.2, 15.8, 17.2, 17.2, 15.8, 16.7, 18.7, 15.1, 13.2, 13.4, 11.2, 13.7, 14.8, 15.9, 13.6, 15.7, 15.8, 15.4, 18.2, 17.3, 18.2, 16.6, 15.4, 13.4, 13.2, 15.2, 14.9, 14.3, 15.0, 13.0, 18.7, 15.8, 17.1, 16.6, 14.7]}, {\"axis\": {\"matches\": true}, \"label\": \"year\", \"values\": [70, 70, 70, 70, 70, 70, 70, 70, 70, 70, 70, 70, 70, 70, 70, 70, 70, 70, 70, 70, 70, 70, 71, 71, 71, 71, 71, 71, 71, 71, 71, 71, 71, 71, 71, 71, 71, 71, 72, 72, 72, 72, 72, 72, 72, 72, 72, 72, 72, 72, 72, 72, 72, 72, 72, 72, 72, 72, 73, 73, 73, 73, 73, 73, 73, 73, 73, 73, 73, 73, 73, 73, 73, 73, 73, 73, 73, 73, 73, 73, 73, 73, 73, 73, 73, 73, 73, 73, 73, 73, 73, 73, 74, 74, 74, 74, 74, 74, 74, 74, 74, 74, 74, 75, 75, 75, 75, 75, 75, 75, 75, 75, 75, 75, 75, 75, 75, 75, 75, 75, 75, 75, 76, 76, 76, 76, 76, 76, 76, 76, 76, 76, 76, 76, 76, 76, 76, 76, 76, 76, 76, 76, 77, 77, 77, 77, 77, 77, 77, 77, 77, 77, 77, 77, 77, 77, 77, 78, 78, 78, 78, 78, 78, 78, 78, 78, 78, 78, 78, 78, 78, 78, 78, 78, 78, 78, 78, 78, 79, 79, 79, 79, 79, 79, 79, 79, 79, 79, 79, 79, 79, 80, 81, 81, 81, 82]}], \"hoverlabel\": {\"namelength\": 0}, \"hovertemplate\": \"mgp01=0<br>%{xaxis.title.text}=%{x}<br>%{yaxis.title.text}=%{y}\", \"legendgroup\": \"mgp01=0\", \"marker\": {\"color\": \"#636efa\", \"symbol\": \"circle\"}, \"name\": \"mgp01=0\", \"showlegend\": true, \"type\": \"splom\"}, {\"diagonal\": {\"visible\": false}, \"dimensions\": [{\"axis\": {\"matches\": true}, \"label\": \"mgp\", \"values\": [24.0, 27.0, 26.0, 25.0, 24.0, 25.0, 26.0, 27.0, 28.0, 25.0, 23.0, 28.0, 30.0, 30.0, 31.0, 35.0, 27.0, 26.0, 24.0, 25.0, 23.0, 26.0, 28.0, 23.0, 28.0, 27.0, 23.0, 26.0, 26.0, 29.0, 24.0, 24.0, 31.0, 26.0, 32.0, 25.0, 29.0, 26.0, 26.0, 31.0, 32.0, 28.0, 24.0, 26.0, 24.0, 26.0, 31.0, 29.0, 23.0, 23.0, 24.0, 25.0, 24.0, 29.0, 23.0, 23.0, 25.0, 33.0, 28.0, 25.0, 25.0, 26.0, 27.0, 24.0, 29.0, 24.5, 29.0, 33.0, 29.5, 32.0, 28.0, 26.5, 31.5, 30.0, 36.0, 25.5, 33.5, 29.0, 24.5, 26.0, 25.5, 30.5, 33.5, 30.0, 30.5, 43.1, 36.1, 32.8, 39.4, 36.1, 25.1, 30.0, 27.5, 27.2, 30.9, 23.2, 23.8, 23.9, 31.5, 29.5, 31.9, 34.1, 35.7, 27.4, 25.4, 23.0, 27.2, 23.9, 34.2, 34.5, 31.8, 37.3, 28.4, 28.8, 26.8, 33.5, 41.5, 38.1, 32.1, 37.2, 28.0, 26.4, 24.3, 34.3, 29.8, 31.3, 37.0, 32.2, 46.6, 27.9, 40.8, 44.3, 43.4, 36.4, 30.0, 44.6, 33.8, 29.8, 32.7, 23.7, 35.0, 32.4, 27.2, 26.6, 25.8, 23.5, 30.0, 39.1, 39.0, 35.1, 32.3, 37.0, 37.7, 34.1, 34.7, 34.4, 29.9, 33.0, 33.7, 32.4, 32.9, 31.6, 28.1, 30.7, 25.4, 24.2, 26.6, 28.0, 27.0, 34.0, 31.0, 29.0, 27.0, 24.0, 36.0, 37.0, 31.0, 38.0, 36.0, 36.0, 36.0, 34.0, 38.0, 32.0, 38.0, 25.0, 38.0, 26.0, 32.0, 36.0, 27.0, 27.0, 44.0, 32.0, 28.0, 31.0]}, {\"axis\": {\"matches\": true}, \"label\": \"cylinders\", \"values\": [4, 4, 4, 4, 4, 4, 4, 4, 4, 4, 4, 4, 4, 4, 4, 4, 4, 4, 4, 4, 4, 4, 4, 4, 4, 4, 6, 4, 4, 4, 4, 4, 4, 4, 4, 4, 4, 4, 4, 4, 4, 4, 4, 4, 4, 4, 4, 4, 4, 4, 4, 4, 4, 4, 4, 4, 4, 4, 4, 4, 4, 4, 4, 6, 4, 4, 4, 4, 4, 4, 4, 4, 4, 4, 4, 4, 4, 4, 4, 4, 4, 4, 4, 4, 4, 4, 4, 4, 4, 4, 4, 4, 4, 4, 4, 4, 4, 4, 4, 4, 4, 4, 4, 4, 5, 8, 4, 8, 4, 4, 4, 4, 4, 6, 6, 4, 4, 4, 4, 4, 4, 4, 4, 4, 4, 4, 4, 4, 4, 4, 4, 4, 4, 5, 4, 4, 4, 4, 6, 3, 4, 4, 4, 4, 4, 6, 4, 4, 4, 4, 4, 4, 4, 4, 4, 4, 4, 4, 4, 4, 4, 4, 4, 6, 6, 6, 8, 4, 4, 4, 4, 4, 4, 4, 4, 4, 4, 4, 4, 4, 4, 4, 4, 4, 4, 6, 6, 4, 4, 4, 4, 4, 4, 4, 4, 4]}, {\"axis\": {\"matches\": true}, \"label\": \"displacement\", \"values\": [113.0, 97.0, 97.0, 110.0, 107.0, 104.0, 121.0, 97.0, 140.0, 113.0, 122.0, 116.0, 79.0, 88.0, 71.0, 72.0, 97.0, 91.0, 113.0, 97.5, 97.0, 96.0, 97.0, 120.0, 98.0, 97.0, 198.0, 97.0, 98.0, 68.0, 116.0, 121.0, 79.0, 122.0, 71.0, 140.0, 98.0, 79.0, 97.0, 76.0, 83.0, 90.0, 90.0, 116.0, 120.0, 108.0, 79.0, 97.0, 140.0, 140.0, 134.0, 90.0, 119.0, 90.0, 115.0, 120.0, 121.0, 91.0, 107.0, 116.0, 140.0, 98.0, 101.0, 200.0, 85.0, 98.0, 90.0, 91.0, 97.0, 85.0, 97.0, 140.0, 98.0, 111.0, 79.0, 122.0, 85.0, 97.0, 151.0, 97.0, 140.0, 98.0, 98.0, 97.0, 97.0, 90.0, 98.0, 78.0, 85.0, 91.0, 140.0, 98.0, 134.0, 119.0, 105.0, 156.0, 151.0, 119.0, 89.0, 98.0, 89.0, 86.0, 98.0, 121.0, 183.0, 350.0, 141.0, 260.0, 105.0, 105.0, 85.0, 91.0, 151.0, 173.0, 173.0, 151.0, 98.0, 89.0, 98.0, 86.0, 151.0, 140.0, 151.0, 97.0, 134.0, 120.0, 119.0, 108.0, 86.0, 156.0, 85.0, 90.0, 90.0, 121.0, 146.0, 91.0, 97.0, 89.0, 168.0, 70.0, 122.0, 107.0, 135.0, 151.0, 156.0, 173.0, 135.0, 79.0, 86.0, 81.0, 97.0, 85.0, 89.0, 91.0, 105.0, 98.0, 98.0, 105.0, 107.0, 108.0, 119.0, 120.0, 141.0, 145.0, 168.0, 146.0, 350.0, 112.0, 112.0, 112.0, 112.0, 135.0, 151.0, 140.0, 105.0, 91.0, 91.0, 105.0, 98.0, 120.0, 107.0, 108.0, 91.0, 91.0, 91.0, 181.0, 262.0, 156.0, 144.0, 135.0, 151.0, 140.0, 97.0, 135.0, 120.0, 119.0]}, {\"axis\": {\"matches\": true}, \"label\": \"horsepower\", \"values\": [95, 88, 46, 87, 90, 95, 113, 88, 90, 95, 86, 90, 70, 76, 65, 69, 60, 70, 95, 80, 54, 69, 92, 97, 80, 88, 95, 46, 90, 49, 75, 110, 67, 80, 65, 75, 83, 67, 78, 52, 61, 75, 75, 75, 97, 93, 67, 75, 83, 78, 96, 71, 97, 70, 95, 88, 115, 53, 86, 81, 92, 79, 83, 81, 52, 60, 70, 53, 71, 70, 75, 72, 68, 80, 58, 96, 70, 78, 88, 75, 89, 63, 83, 67, 78, 48, 66, 52, 70, 60, 88, 68, 95, 97, 75, 105, 85, 97, 71, 68, 71, 65, 80, 80, 77, 125, 71, 90, 70, 70, 65, 69, 90, 115, 115, 90, 76, 60, 70, 65, 90, 88, 90, 78, 90, 75, 92, 75, 65, 105, 65, 48, 48, 67, 67, 67, 67, 62, 132, 100, 88, 72, 84, 84, 92, 110, 84, 58, 64, 60, 67, 65, 62, 68, 63, 65, 65, 74, 75, 75, 100, 74, 80, 76, 116, 120, 105, 88, 88, 88, 85, 84, 90, 92, 74, 68, 68, 63, 70, 88, 75, 70, 67, 67, 67, 110, 85, 92, 96, 84, 90, 86, 52, 84, 79, 82]}, {\"axis\": {\"matches\": true}, \"label\": \"weight\", \"values\": [2372, 2130, 1835, 2672, 2430, 2375, 2234, 2130, 2264, 2228, 2220, 2123, 2074, 2065, 1773, 1613, 1834, 1955, 2278, 2126, 2254, 2189, 2288, 2506, 2164, 2100, 2904, 1950, 2265, 1867, 2158, 2660, 1950, 2451, 1836, 2542, 2219, 1963, 2300, 1649, 2003, 2125, 2108, 2246, 2489, 2391, 2000, 2171, 2639, 2592, 2702, 2223, 2545, 1937, 2694, 2957, 2671, 1795, 2464, 2220, 2572, 2255, 2202, 3012, 2035, 2164, 1937, 1795, 1825, 1990, 2155, 2565, 2045, 2155, 1825, 2300, 1945, 1940, 2740, 2265, 2755, 2051, 2075, 1985, 2190, 1985, 1800, 1985, 2070, 1800, 2720, 2155, 2560, 2300, 2230, 2745, 2855, 2405, 1990, 2135, 1925, 1975, 1915, 2670, 3530, 3900, 3190, 3420, 2200, 2150, 2020, 2130, 2670, 2595, 2700, 2556, 2144, 1968, 2120, 2019, 2678, 2870, 3003, 2188, 2711, 2542, 2434, 2265, 2110, 2800, 2110, 2085, 2335, 2950, 3250, 1850, 2145, 1845, 2910, 2420, 2500, 2290, 2490, 2635, 2620, 2725, 2385, 1755, 1875, 1760, 2065, 1975, 2050, 1985, 2215, 2045, 2380, 2190, 2210, 2350, 2615, 2635, 3230, 3160, 2900, 2930, 3725, 2605, 2640, 2395, 2575, 2525, 2735, 2865, 1980, 2025, 1970, 2125, 2125, 2160, 2205, 2245, 1965, 1965, 1995, 2945, 3015, 2585, 2665, 2370, 2950, 2790, 2130, 2295, 2625, 2720]}, {\"axis\": {\"matches\": true}, \"label\": \"accelaration\", \"values\": [15.0, 14.5, 20.5, 17.5, 14.5, 17.5, 12.5, 14.5, 15.5, 14.0, 14.0, 14.0, 19.5, 14.5, 19.0, 18.0, 19.0, 20.5, 15.5, 17.0, 23.5, 18.0, 17.0, 14.5, 15.0, 16.5, 16.0, 21.0, 15.5, 19.5, 15.5, 14.0, 19.0, 16.5, 21.0, 17.0, 16.5, 15.5, 14.5, 16.5, 19.0, 14.5, 15.5, 14.0, 15.0, 15.5, 16.0, 16.0, 17.0, 18.5, 13.5, 16.5, 17.0, 14.0, 15.0, 17.0, 13.5, 17.5, 15.5, 16.9, 14.9, 17.7, 15.3, 17.6, 22.2, 22.1, 14.2, 17.4, 12.2, 17.0, 16.4, 13.6, 18.5, 14.8, 18.6, 15.5, 16.8, 14.5, 16.0, 18.2, 15.8, 17.0, 15.9, 16.4, 14.1, 21.5, 14.4, 19.4, 18.6, 16.4, 15.4, 16.5, 14.2, 14.7, 14.5, 16.7, 17.6, 14.9, 14.9, 16.6, 14.0, 15.2, 14.4, 15.0, 20.1, 17.4, 24.8, 22.2, 13.2, 14.9, 19.2, 14.7, 16.0, 11.3, 12.9, 13.2, 14.7, 18.8, 15.5, 16.4, 16.5, 18.1, 20.1, 15.8, 15.5, 17.5, 15.0, 15.2, 17.9, 14.4, 19.2, 21.7, 23.7, 19.9, 21.8, 13.8, 18.0, 15.3, 11.4, 12.5, 15.1, 17.0, 15.7, 16.4, 14.4, 12.6, 12.9, 16.9, 16.4, 16.1, 17.8, 19.4, 17.3, 16.0, 14.9, 16.2, 20.7, 14.2, 14.4, 16.8, 14.8, 18.3, 20.4, 19.6, 12.6, 13.8, 19.0, 19.6, 18.6, 18.0, 16.2, 16.0, 18.0, 16.4, 15.3, 18.2, 17.6, 14.7, 17.3, 14.5, 14.5, 16.9, 15.0, 15.7, 16.2, 16.4, 17.0, 14.5, 13.9, 13.0, 17.3, 15.6, 24.6, 11.6, 18.6, 19.4]}, {\"axis\": {\"matches\": true}, \"label\": \"year\", \"values\": [70, 70, 70, 70, 70, 70, 70, 71, 71, 71, 71, 71, 71, 71, 71, 71, 71, 71, 72, 72, 72, 72, 72, 72, 72, 72, 73, 73, 73, 73, 73, 73, 74, 74, 74, 74, 74, 74, 74, 74, 74, 74, 74, 74, 74, 74, 74, 75, 75, 75, 75, 75, 75, 75, 75, 75, 75, 75, 76, 76, 76, 76, 76, 76, 76, 76, 76, 76, 76, 76, 76, 76, 77, 77, 77, 77, 77, 77, 77, 77, 77, 77, 77, 77, 77, 78, 78, 78, 78, 78, 78, 78, 78, 78, 78, 78, 78, 78, 78, 78, 79, 79, 79, 79, 79, 79, 79, 79, 79, 79, 79, 79, 79, 79, 79, 79, 80, 80, 80, 80, 80, 80, 80, 80, 80, 80, 80, 80, 80, 80, 80, 80, 80, 80, 80, 80, 80, 80, 80, 80, 80, 80, 81, 81, 81, 81, 81, 81, 81, 81, 81, 81, 81, 81, 81, 81, 81, 81, 81, 81, 81, 81, 81, 81, 81, 81, 81, 82, 82, 82, 82, 82, 82, 82, 82, 82, 82, 82, 82, 82, 82, 82, 82, 82, 82, 82, 82, 82, 82, 82, 82, 82, 82, 82, 82, 82]}], \"hoverlabel\": {\"namelength\": 0}, \"hovertemplate\": \"mgp01=1<br>%{xaxis.title.text}=%{x}<br>%{yaxis.title.text}=%{y}\", \"legendgroup\": \"mgp01=1\", \"marker\": {\"color\": \"#EF553B\", \"symbol\": \"circle\"}, \"name\": \"mgp01=1\", \"showlegend\": true, \"type\": \"splom\"}],\n",
              "                        {\"dragmode\": \"select\", \"legend\": {\"tracegroupgap\": 0}, \"margin\": {\"t\": 60}, \"template\": {\"data\": {\"bar\": [{\"error_x\": {\"color\": \"#2a3f5f\"}, \"error_y\": {\"color\": \"#2a3f5f\"}, \"marker\": {\"line\": {\"color\": \"#E5ECF6\", \"width\": 0.5}}, \"type\": \"bar\"}], \"barpolar\": [{\"marker\": {\"line\": {\"color\": \"#E5ECF6\", \"width\": 0.5}}, \"type\": \"barpolar\"}], \"carpet\": [{\"aaxis\": {\"endlinecolor\": \"#2a3f5f\", \"gridcolor\": \"white\", \"linecolor\": \"white\", \"minorgridcolor\": \"white\", \"startlinecolor\": \"#2a3f5f\"}, \"baxis\": {\"endlinecolor\": \"#2a3f5f\", \"gridcolor\": \"white\", \"linecolor\": \"white\", \"minorgridcolor\": \"white\", \"startlinecolor\": \"#2a3f5f\"}, \"type\": \"carpet\"}], \"choropleth\": [{\"colorbar\": {\"outlinewidth\": 0, \"ticks\": \"\"}, \"type\": \"choropleth\"}], \"contour\": [{\"colorbar\": {\"outlinewidth\": 0, \"ticks\": \"\"}, \"colorscale\": [[0.0, \"#0d0887\"], [0.1111111111111111, \"#46039f\"], [0.2222222222222222, \"#7201a8\"], [0.3333333333333333, \"#9c179e\"], [0.4444444444444444, \"#bd3786\"], [0.5555555555555556, \"#d8576b\"], [0.6666666666666666, \"#ed7953\"], [0.7777777777777778, \"#fb9f3a\"], [0.8888888888888888, \"#fdca26\"], [1.0, \"#f0f921\"]], \"type\": \"contour\"}], \"contourcarpet\": [{\"colorbar\": {\"outlinewidth\": 0, \"ticks\": \"\"}, \"type\": \"contourcarpet\"}], \"heatmap\": [{\"colorbar\": {\"outlinewidth\": 0, \"ticks\": \"\"}, \"colorscale\": [[0.0, \"#0d0887\"], [0.1111111111111111, \"#46039f\"], [0.2222222222222222, \"#7201a8\"], [0.3333333333333333, \"#9c179e\"], [0.4444444444444444, \"#bd3786\"], [0.5555555555555556, \"#d8576b\"], [0.6666666666666666, \"#ed7953\"], [0.7777777777777778, \"#fb9f3a\"], [0.8888888888888888, \"#fdca26\"], [1.0, \"#f0f921\"]], \"type\": \"heatmap\"}], \"heatmapgl\": [{\"colorbar\": {\"outlinewidth\": 0, \"ticks\": \"\"}, \"colorscale\": [[0.0, \"#0d0887\"], [0.1111111111111111, \"#46039f\"], [0.2222222222222222, \"#7201a8\"], [0.3333333333333333, \"#9c179e\"], [0.4444444444444444, \"#bd3786\"], [0.5555555555555556, \"#d8576b\"], [0.6666666666666666, \"#ed7953\"], [0.7777777777777778, \"#fb9f3a\"], [0.8888888888888888, \"#fdca26\"], [1.0, \"#f0f921\"]], \"type\": \"heatmapgl\"}], \"histogram\": [{\"marker\": {\"colorbar\": {\"outlinewidth\": 0, \"ticks\": \"\"}}, \"type\": \"histogram\"}], \"histogram2d\": [{\"colorbar\": {\"outlinewidth\": 0, \"ticks\": \"\"}, \"colorscale\": [[0.0, \"#0d0887\"], [0.1111111111111111, \"#46039f\"], [0.2222222222222222, \"#7201a8\"], [0.3333333333333333, \"#9c179e\"], [0.4444444444444444, \"#bd3786\"], [0.5555555555555556, \"#d8576b\"], [0.6666666666666666, \"#ed7953\"], [0.7777777777777778, \"#fb9f3a\"], [0.8888888888888888, \"#fdca26\"], [1.0, \"#f0f921\"]], \"type\": \"histogram2d\"}], \"histogram2dcontour\": [{\"colorbar\": {\"outlinewidth\": 0, \"ticks\": \"\"}, \"colorscale\": [[0.0, \"#0d0887\"], [0.1111111111111111, \"#46039f\"], [0.2222222222222222, \"#7201a8\"], [0.3333333333333333, \"#9c179e\"], [0.4444444444444444, \"#bd3786\"], [0.5555555555555556, \"#d8576b\"], [0.6666666666666666, \"#ed7953\"], [0.7777777777777778, \"#fb9f3a\"], [0.8888888888888888, \"#fdca26\"], [1.0, \"#f0f921\"]], \"type\": \"histogram2dcontour\"}], \"mesh3d\": [{\"colorbar\": {\"outlinewidth\": 0, \"ticks\": \"\"}, \"type\": \"mesh3d\"}], \"parcoords\": [{\"line\": {\"colorbar\": {\"outlinewidth\": 0, \"ticks\": \"\"}}, \"type\": \"parcoords\"}], \"pie\": [{\"automargin\": true, \"type\": \"pie\"}], \"scatter\": [{\"marker\": {\"colorbar\": {\"outlinewidth\": 0, \"ticks\": \"\"}}, \"type\": \"scatter\"}], \"scatter3d\": [{\"line\": {\"colorbar\": {\"outlinewidth\": 0, \"ticks\": \"\"}}, \"marker\": {\"colorbar\": {\"outlinewidth\": 0, \"ticks\": \"\"}}, \"type\": \"scatter3d\"}], \"scattercarpet\": [{\"marker\": {\"colorbar\": {\"outlinewidth\": 0, \"ticks\": \"\"}}, \"type\": \"scattercarpet\"}], \"scattergeo\": [{\"marker\": {\"colorbar\": {\"outlinewidth\": 0, \"ticks\": \"\"}}, \"type\": \"scattergeo\"}], \"scattergl\": [{\"marker\": {\"colorbar\": {\"outlinewidth\": 0, \"ticks\": \"\"}}, \"type\": \"scattergl\"}], \"scattermapbox\": [{\"marker\": {\"colorbar\": {\"outlinewidth\": 0, \"ticks\": \"\"}}, \"type\": \"scattermapbox\"}], \"scatterpolar\": [{\"marker\": {\"colorbar\": {\"outlinewidth\": 0, \"ticks\": \"\"}}, \"type\": \"scatterpolar\"}], \"scatterpolargl\": [{\"marker\": {\"colorbar\": {\"outlinewidth\": 0, \"ticks\": \"\"}}, \"type\": \"scatterpolargl\"}], \"scatterternary\": [{\"marker\": {\"colorbar\": {\"outlinewidth\": 0, \"ticks\": \"\"}}, \"type\": \"scatterternary\"}], \"surface\": [{\"colorbar\": {\"outlinewidth\": 0, \"ticks\": \"\"}, \"colorscale\": [[0.0, \"#0d0887\"], [0.1111111111111111, \"#46039f\"], [0.2222222222222222, \"#7201a8\"], [0.3333333333333333, \"#9c179e\"], [0.4444444444444444, \"#bd3786\"], [0.5555555555555556, \"#d8576b\"], [0.6666666666666666, \"#ed7953\"], [0.7777777777777778, \"#fb9f3a\"], [0.8888888888888888, \"#fdca26\"], [1.0, \"#f0f921\"]], \"type\": \"surface\"}], \"table\": [{\"cells\": {\"fill\": {\"color\": \"#EBF0F8\"}, \"line\": {\"color\": \"white\"}}, \"header\": {\"fill\": {\"color\": \"#C8D4E3\"}, \"line\": {\"color\": \"white\"}}, \"type\": \"table\"}]}, \"layout\": {\"annotationdefaults\": {\"arrowcolor\": \"#2a3f5f\", \"arrowhead\": 0, \"arrowwidth\": 1}, \"coloraxis\": {\"colorbar\": {\"outlinewidth\": 0, \"ticks\": \"\"}}, \"colorscale\": {\"diverging\": [[0, \"#8e0152\"], [0.1, \"#c51b7d\"], [0.2, \"#de77ae\"], [0.3, \"#f1b6da\"], [0.4, \"#fde0ef\"], [0.5, \"#f7f7f7\"], [0.6, \"#e6f5d0\"], [0.7, \"#b8e186\"], [0.8, \"#7fbc41\"], [0.9, \"#4d9221\"], [1, \"#276419\"]], \"sequential\": [[0.0, \"#0d0887\"], [0.1111111111111111, \"#46039f\"], [0.2222222222222222, \"#7201a8\"], [0.3333333333333333, \"#9c179e\"], [0.4444444444444444, \"#bd3786\"], [0.5555555555555556, \"#d8576b\"], [0.6666666666666666, \"#ed7953\"], [0.7777777777777778, \"#fb9f3a\"], [0.8888888888888888, \"#fdca26\"], [1.0, \"#f0f921\"]], \"sequentialminus\": [[0.0, \"#0d0887\"], [0.1111111111111111, \"#46039f\"], [0.2222222222222222, \"#7201a8\"], [0.3333333333333333, \"#9c179e\"], [0.4444444444444444, \"#bd3786\"], [0.5555555555555556, \"#d8576b\"], [0.6666666666666666, \"#ed7953\"], [0.7777777777777778, \"#fb9f3a\"], [0.8888888888888888, \"#fdca26\"], [1.0, \"#f0f921\"]]}, \"colorway\": [\"#636efa\", \"#EF553B\", \"#00cc96\", \"#ab63fa\", \"#FFA15A\", \"#19d3f3\", \"#FF6692\", \"#B6E880\", \"#FF97FF\", \"#FECB52\"], \"font\": {\"color\": \"#2a3f5f\"}, \"geo\": {\"bgcolor\": \"white\", \"lakecolor\": \"white\", \"landcolor\": \"#E5ECF6\", \"showlakes\": true, \"showland\": true, \"subunitcolor\": \"white\"}, \"hoverlabel\": {\"align\": \"left\"}, \"hovermode\": \"closest\", \"mapbox\": {\"style\": \"light\"}, \"paper_bgcolor\": \"white\", \"plot_bgcolor\": \"#E5ECF6\", \"polar\": {\"angularaxis\": {\"gridcolor\": \"white\", \"linecolor\": \"white\", \"ticks\": \"\"}, \"bgcolor\": \"#E5ECF6\", \"radialaxis\": {\"gridcolor\": \"white\", \"linecolor\": \"white\", \"ticks\": \"\"}}, \"scene\": {\"xaxis\": {\"backgroundcolor\": \"#E5ECF6\", \"gridcolor\": \"white\", \"gridwidth\": 2, \"linecolor\": \"white\", \"showbackground\": true, \"ticks\": \"\", \"zerolinecolor\": \"white\"}, \"yaxis\": {\"backgroundcolor\": \"#E5ECF6\", \"gridcolor\": \"white\", \"gridwidth\": 2, \"linecolor\": \"white\", \"showbackground\": true, \"ticks\": \"\", \"zerolinecolor\": \"white\"}, \"zaxis\": {\"backgroundcolor\": \"#E5ECF6\", \"gridcolor\": \"white\", \"gridwidth\": 2, \"linecolor\": \"white\", \"showbackground\": true, \"ticks\": \"\", \"zerolinecolor\": \"white\"}}, \"shapedefaults\": {\"line\": {\"color\": \"#2a3f5f\"}}, \"ternary\": {\"aaxis\": {\"gridcolor\": \"white\", \"linecolor\": \"white\", \"ticks\": \"\"}, \"baxis\": {\"gridcolor\": \"white\", \"linecolor\": \"white\", \"ticks\": \"\"}, \"bgcolor\": \"#E5ECF6\", \"caxis\": {\"gridcolor\": \"white\", \"linecolor\": \"white\", \"ticks\": \"\"}}, \"title\": {\"x\": 0.05}, \"xaxis\": {\"automargin\": true, \"gridcolor\": \"white\", \"linecolor\": \"white\", \"ticks\": \"\", \"title\": {\"standoff\": 15}, \"zerolinecolor\": \"white\", \"zerolinewidth\": 2}, \"yaxis\": {\"automargin\": true, \"gridcolor\": \"white\", \"linecolor\": \"white\", \"ticks\": \"\", \"title\": {\"standoff\": 15}, \"zerolinecolor\": \"white\", \"zerolinewidth\": 2}}}},\n",
              "                        {\"responsive\": true}\n",
              "                    ).then(function(){\n",
              "                            \n",
              "var gd = document.getElementById('d21d48e5-f7dd-4562-a5f0-f5f32bc91cbb');\n",
              "var x = new MutationObserver(function (mutations, observer) {{\n",
              "        var display = window.getComputedStyle(gd).display;\n",
              "        if (!display || display === 'none') {{\n",
              "            console.log([gd, 'removed!']);\n",
              "            Plotly.purge(gd);\n",
              "            observer.disconnect();\n",
              "        }}\n",
              "}});\n",
              "\n",
              "// Listen for the removal of the full notebook cells\n",
              "var notebookContainer = gd.closest('#notebook-container');\n",
              "if (notebookContainer) {{\n",
              "    x.observe(notebookContainer, {childList: true});\n",
              "}}\n",
              "\n",
              "// Listen for the clearing of the current output cell\n",
              "var outputEl = gd.closest('.output');\n",
              "if (outputEl) {{\n",
              "    x.observe(outputEl, {childList: true});\n",
              "}}\n",
              "\n",
              "                        })\n",
              "                };\n",
              "                \n",
              "            </script>\n",
              "        </div>\n",
              "</body>\n",
              "</html>"
            ]
          },
          "metadata": {}
        },
        {
          "output_type": "display_data",
          "data": {
            "image/png": "[encoded data removed]",
            "text/plain": [
              "<Figure size 1080x1080 with 2 Axes>"
            ]
          },
          "metadata": {
            "needs_background": "light"
          }
        }
      ]
    },
    {
      "cell_type": "markdown",
      "source": [
        "**4.d)** Drop the \"name\" and the \"mpg\" columns (the original mpg, not the mpg01). Create two new columns named \"origin1\" and \"origin2\". The first takes the value 1 when column origin is 1, and 0 otherwise; the second takes the value 1 when the column origin is 2 and 0 otherwise. Then, drop column origin."
      ],
      "metadata": {
        "id": "kLf3_ufHhDbt"
      }
    },
    {
      "cell_type": "code",
      "source": [
        "array = matrix1.values \n",
        "\n",
        "# \n",
        "raw_target = array[:,7]\n",
        "aux3 = np.where( raw_target == 1, 1, 0)\n",
        "aux4= pd.DataFrame(aux3,columns=['origin1'])\n",
        "result2 = np.concatenate((matrix1, aux4), axis=1)\n",
        "\n",
        "# \n",
        "raw_target = array[:,7]\n",
        "aux5 = np.where( raw_target == 2, 1, 0)\n",
        "aux6 = pd.DataFrame(aux5,columns=['origin2'])\n",
        "result3 = np.concatenate((result2, aux6), axis=1)\n",
        "\n",
        "result4=np.delete(result3, np.s_[8], axis=1)\n",
        "result5=np.delete(result4, np.s_[7], axis=1) \n",
        "result6=np.delete(result5, np.s_[0], axis=1) \n",
        "\n",
        "end=pd.DataFrame(result6,columns=['cylinders','displacement','horsepower','weight','accelaration','year','mgp01','origin1','origin2'])\n",
        "end"
      ],
      "metadata": {
        "id": "XBiPDq8Ok4nz",
        "outputId": "338baeb3-766b-4ab0-e299-45b335fba6ef",
        "colab": {
          "base_uri": "https://localhost:8080/",
          "height": 423
        }
      },
      "execution_count": 13,
      "outputs": [
        {
          "output_type": "execute_result",
          "data": {
            "text/html": [
              "<div>\n",
              "<style scoped>\n",
              "    .dataframe tbody tr th:only-of-type {\n",
              "        vertical-align: middle;\n",
              "    }\n",
              "\n",
              "    .dataframe tbody tr th {\n",
              "        vertical-align: top;\n",
              "    }\n",
              "\n",
              "    .dataframe thead th {\n",
              "        text-align: right;\n",
              "    }\n",
              "</style>\n",
              "<table border=\"1\" class=\"dataframe\">\n",
              "  <thead>\n",
              "    <tr style=\"text-align: right;\">\n",
              "      <th></th>\n",
              "      <th>cylinders</th>\n",
              "      <th>displacement</th>\n",
              "      <th>horsepower</th>\n",
              "      <th>weight</th>\n",
              "      <th>accelaration</th>\n",
              "      <th>year</th>\n",
              "      <th>mgp01</th>\n",
              "      <th>origin1</th>\n",
              "      <th>origin2</th>\n",
              "    </tr>\n",
              "  </thead>\n",
              "  <tbody>\n",
              "    <tr>\n",
              "      <th>0</th>\n",
              "      <td>8</td>\n",
              "      <td>307</td>\n",
              "      <td>130</td>\n",
              "      <td>3504</td>\n",
              "      <td>12</td>\n",
              "      <td>70</td>\n",
              "      <td>0</td>\n",
              "      <td>1</td>\n",
              "      <td>0</td>\n",
              "    </tr>\n",
              "    <tr>\n",
              "      <th>1</th>\n",
              "      <td>8</td>\n",
              "      <td>350</td>\n",
              "      <td>165</td>\n",
              "      <td>3693</td>\n",
              "      <td>11.5</td>\n",
              "      <td>70</td>\n",
              "      <td>0</td>\n",
              "      <td>1</td>\n",
              "      <td>0</td>\n",
              "    </tr>\n",
              "    <tr>\n",
              "      <th>2</th>\n",
              "      <td>8</td>\n",
              "      <td>318</td>\n",
              "      <td>150</td>\n",
              "      <td>3436</td>\n",
              "      <td>11</td>\n",
              "      <td>70</td>\n",
              "      <td>0</td>\n",
              "      <td>1</td>\n",
              "      <td>0</td>\n",
              "    </tr>\n",
              "    <tr>\n",
              "      <th>3</th>\n",
              "      <td>8</td>\n",
              "      <td>304</td>\n",
              "      <td>150</td>\n",
              "      <td>3433</td>\n",
              "      <td>12</td>\n",
              "      <td>70</td>\n",
              "      <td>0</td>\n",
              "      <td>1</td>\n",
              "      <td>0</td>\n",
              "    </tr>\n",
              "    <tr>\n",
              "      <th>4</th>\n",
              "      <td>8</td>\n",
              "      <td>302</td>\n",
              "      <td>140</td>\n",
              "      <td>3449</td>\n",
              "      <td>10.5</td>\n",
              "      <td>70</td>\n",
              "      <td>0</td>\n",
              "      <td>1</td>\n",
              "      <td>0</td>\n",
              "    </tr>\n",
              "    <tr>\n",
              "      <th>...</th>\n",
              "      <td>...</td>\n",
              "      <td>...</td>\n",
              "      <td>...</td>\n",
              "      <td>...</td>\n",
              "      <td>...</td>\n",
              "      <td>...</td>\n",
              "      <td>...</td>\n",
              "      <td>...</td>\n",
              "      <td>...</td>\n",
              "    </tr>\n",
              "    <tr>\n",
              "      <th>387</th>\n",
              "      <td>4</td>\n",
              "      <td>140</td>\n",
              "      <td>86</td>\n",
              "      <td>2790</td>\n",
              "      <td>15.6</td>\n",
              "      <td>82</td>\n",
              "      <td>1</td>\n",
              "      <td>1</td>\n",
              "      <td>0</td>\n",
              "    </tr>\n",
              "    <tr>\n",
              "      <th>388</th>\n",
              "      <td>4</td>\n",
              "      <td>97</td>\n",
              "      <td>52</td>\n",
              "      <td>2130</td>\n",
              "      <td>24.6</td>\n",
              "      <td>82</td>\n",
              "      <td>1</td>\n",
              "      <td>0</td>\n",
              "      <td>1</td>\n",
              "    </tr>\n",
              "    <tr>\n",
              "      <th>389</th>\n",
              "      <td>4</td>\n",
              "      <td>135</td>\n",
              "      <td>84</td>\n",
              "      <td>2295</td>\n",
              "      <td>11.6</td>\n",
              "      <td>82</td>\n",
              "      <td>1</td>\n",
              "      <td>1</td>\n",
              "      <td>0</td>\n",
              "    </tr>\n",
              "    <tr>\n",
              "      <th>390</th>\n",
              "      <td>4</td>\n",
              "      <td>120</td>\n",
              "      <td>79</td>\n",
              "      <td>2625</td>\n",
              "      <td>18.6</td>\n",
              "      <td>82</td>\n",
              "      <td>1</td>\n",
              "      <td>1</td>\n",
              "      <td>0</td>\n",
              "    </tr>\n",
              "    <tr>\n",
              "      <th>391</th>\n",
              "      <td>4</td>\n",
              "      <td>119</td>\n",
              "      <td>82</td>\n",
              "      <td>2720</td>\n",
              "      <td>19.4</td>\n",
              "      <td>82</td>\n",
              "      <td>1</td>\n",
              "      <td>1</td>\n",
              "      <td>0</td>\n",
              "    </tr>\n",
              "  </tbody>\n",
              "</table>\n",
              "<p>392 rows × 9 columns</p>\n",
              "</div>"
            ],
            "text/plain": [
              "    cylinders displacement horsepower weight  ... year mgp01 origin1 origin2\n",
              "0           8          307        130   3504  ...   70     0       1       0\n",
              "1           8          350        165   3693  ...   70     0       1       0\n",
              "2           8          318        150   3436  ...   70     0       1       0\n",
              "3           8          304        150   3433  ...   70     0       1       0\n",
              "4           8          302        140   3449  ...   70     0       1       0\n",
              "..        ...          ...        ...    ...  ...  ...   ...     ...     ...\n",
              "387         4          140         86   2790  ...   82     1       1       0\n",
              "388         4           97         52   2130  ...   82     1       0       1\n",
              "389         4          135         84   2295  ...   82     1       1       0\n",
              "390         4          120         79   2625  ...   82     1       1       0\n",
              "391         4          119         82   2720  ...   82     1       1       0\n",
              "\n",
              "[392 rows x 9 columns]"
            ]
          },
          "metadata": {},
          "execution_count": 13
        }
      ]
    },
    {
      "cell_type": "markdown",
      "source": [
        "**4.e)** Split the data into test and training datasets. Consider a test dataset comprised of 30% of the whole dataset."
      ],
      "metadata": {
        "id": "8168IcmcSjd4"
      }
    },
    {
      "cell_type": "code",
      "source": [
        "import sklearn\n",
        "from sklearn import model_selection\n",
        "from sklearn.metrics import classification_report\n",
        "from sklearn.metrics import confusion_matrix\n",
        "from sklearn.metrics import accuracy_score\n",
        "from sklearn.linear_model import LogisticRegression\n",
        "from sklearn.tree import DecisionTreeClassifier\n",
        "from sklearn.neighbors import KNeighborsClassifier\n",
        "from sklearn.discriminant_analysis import LinearDiscriminantAnalysis\n",
        "from sklearn.naive_bayes import GaussianNB\n",
        "from sklearn.svm import SVC\n",
        "from sklearn.linear_model import LinearRegression\n",
        "from sklearn.metrics import r2_score\n",
        "\n",
        "end_array= end.to_numpy()\n",
        "X = end_array[:,0:5]\n",
        "y = end_array[:,6]\n",
        "y=y.astype('int')\n",
        "X=X.astype('int')\n",
        "X_train, X_test, y_train, y_test = model_selection.train_test_split(X, y, test_size=0.30, random_state=10)\n",
        "    \n",
        "print ('Dimensions of X_train: ', X_train.shape)\n",
        "print ('Dimensions of X_test:  ', X_test.shape)\n",
        "print ('Dimensions of y_train: ', y_train.shape)\n",
        "print ('Dimensions of y_test:  ', y_test.shape)"
      ],
      "metadata": {
        "id": "Px_p-ik5Ifjg",
        "outputId": "cf42fcff-2787-4fdd-ecaf-32cf5db3f28f",
        "colab": {
          "base_uri": "https://localhost:8080/"
        }
      },
      "execution_count": 14,
      "outputs": [
        {
          "output_type": "stream",
          "name": "stdout",
          "text": [
            "Dimensions of X_train:  (274, 5)\n",
            "Dimensions of X_test:   (118, 5)\n",
            "Dimensions of y_train:  (274,)\n",
            "Dimensions of y_test:   (118,)\n"
          ]
        }
      ]
    },
    {
      "cell_type": "markdown",
      "source": [
        "**4.f)** Perform LDA on the training data in order to predict mpg01 using the remaining variables. What is the test error of the model obtained?"
      ],
      "metadata": {
        "id": "IWepa-QISjbZ"
      }
    },
    {
      "cell_type": "code",
      "source": [
        "# Apply a Logistic Regression model\n",
        "model = LinearRegression()\n",
        "model.fit(X_train,y_train)\n",
        "\n",
        "## To calculate the R^2 score, the prediction of y is calculate using the predict method.\n",
        "y_pred = model.predict(X_test)\n",
        "r2_value = r2_score(y_test,y_pred)\n",
        "print('R^2: {:.4f}'.format(r2_value))"
      ],
      "metadata": {
        "id": "Jf1SHvPVlSh6",
        "outputId": "c25bb4da-7175-4ae7-a8ab-ccf7e2daae46",
        "colab": {
          "base_uri": "https://localhost:8080/"
        }
      },
      "execution_count": 16,
      "outputs": [
        {
          "output_type": "stream",
          "name": "stdout",
          "text": [
            "R^2: 0.4837\n"
          ]
        }
      ]
    },
    {
      "cell_type": "markdown",
      "source": [
        "**4.g)** Perform QDA on the training data in order to predict mpg01 using the remaining variables. What is the test error of the model obtained?"
      ],
      "metadata": {
        "id": "YWiMguFvSjWE"
      }
    },
    {
      "cell_type": "code",
      "source": [
        "from sklearn.preprocessing import PolynomialFeatures\n",
        "\n",
        "# Apply the polynomial transformation to the input dataset -- consider 2nd degree and without interaction\n",
        "poly = PolynomialFeatures(degree = 2, interaction_only=False, include_bias=False)\n",
        "X_train_poli = poly.fit_transform(X_train)\n",
        "\n",
        "# Fit the linear model\n",
        "regr = LinearRegression()\n",
        "regr.fit(X_train_poli, y_train)\n",
        "\n",
        "# Calculate and print the R^2 score\n",
        "X_test_poli = poly.fit_transform(X_test)\n",
        "y2 = regr.predict(X_test_poli)\n",
        "r2_value = r2_score(y_test, y2)\n",
        "print('R^2: {:.4f}'.format(r2_value))\n"
      ],
      "metadata": {
        "id": "dIGRkWMjF18K",
        "outputId": "fbc2d3ff-aa18-419d-b4dd-a011eb3db5a7",
        "colab": {
          "base_uri": "https://localhost:8080/"
        }
      },
      "execution_count": 19,
      "outputs": [
        {
          "output_type": "stream",
          "name": "stdout",
          "text": [
            "R^2: 0.4651\n"
          ]
        }
      ]
    },
    {
      "cell_type": "markdown",
      "source": [
        "**4.h)** Perform logistic regression on the training data in order to predict mpg01 using the remaining variables. What is the test error of the model obtained?"
      ],
      "metadata": {
        "id": "DFAhEuhSSjOz"
      }
    },
    {
      "cell_type": "code",
      "source": [
        "from sklearn.linear_model import LogisticRegression\n",
        "from sklearn.metrics import r2_score\n",
        "\n",
        "lg = LogisticRegression()\n",
        "lg.fit(X_train, y_train)\n",
        "mpg01_lgpredic = lg.predict(X_test)\n",
        "r2_lg_value = r2_score (y_test, mpg01_lgpredic)\n",
        "print('R^2: {:.5f}'.format(r2_lg_value))"
      ],
      "metadata": {
        "id": "6eriUkkr6EI7",
        "outputId": "9a57e679-a7fd-4475-e13e-2ac2a9e48980",
        "colab": {
          "base_uri": "https://localhost:8080/"
        }
      },
      "execution_count": 20,
      "outputs": [
        {
          "output_type": "stream",
          "name": "stdout",
          "text": [
            "R^2: 0.47941\n"
          ]
        },
        {
          "output_type": "stream",
          "name": "stderr",
          "text": [
            "/usr/local/lib/python3.7/dist-packages/sklearn/linear_model/_logistic.py:818: ConvergenceWarning:\n",
            "\n",
            "lbfgs failed to converge (status=1):\n",
            "STOP: TOTAL NO. of ITERATIONS REACHED LIMIT.\n",
            "\n",
            "Increase the number of iterations (max_iter) or scale the data as shown in:\n",
            "    https://scikit-learn.org/stable/modules/preprocessing.html\n",
            "Please also refer to the documentation for alternative solver options:\n",
            "    https://scikit-learn.org/stable/modules/linear_model.html#logistic-regression\n",
            "\n"
          ]
        }
      ]
    },
    {
      "cell_type": "markdown",
      "source": [
        "**4.i)** Perform naive Bayes on the training data in order to predict mpg01 using the remaining variables. What is the test error of the model obtained?"
      ],
      "metadata": {
        "id": "dJUvW41ViqMc"
      }
    },
    {
      "cell_type": "code",
      "source": [
        "from sklearn.naive_bayes import GaussianNB\n",
        "\n",
        "gnb = GaussianNB()\n",
        "mpg01_nb_pred = gnb.fit(X_train, y_train).predict(X_test)\n",
        "r2_nb_value = r2_score (y_test, mpg01_nb_pred)\n",
        "print('R^2: {:.5f}'.format(r2_nb_value))"
      ],
      "metadata": {
        "id": "uKAlsvKZKDxM",
        "outputId": "5923d7cf-437c-4d1a-88fd-94b77ae8646e",
        "colab": {
          "base_uri": "https://localhost:8080/"
        }
      },
      "execution_count": 22,
      "outputs": [
        {
          "output_type": "stream",
          "name": "stdout",
          "text": [
            "R^2: 0.54882\n"
          ]
        }
      ]
    },
    {
      "cell_type": "markdown",
      "source": [
        "**4.j)** Perform KNN on the training data, with several values of K, in order to predict mpg01. Use only the variables \"displacement\", \"horsepower\", and \"weight\". What test errors are obtained? Which value of K seems to perform the best on this data set?"
      ],
      "metadata": {
        "id": "tPRBsCLviqKm"
      }
    },
    {
      "cell_type": "code",
      "source": [
        "from sklearn.neighbors import KNeighborsClassifier\n",
        "\n",
        "neigh = KNeighborsClassifier(n_neighbors=2)\n",
        "neigh.fit(X, y)\n",
        "mpg01_k_pred = neigh.predict(X_test)\n",
        "r2_k_value = r2_score (y_test, mpg01_k_pred)\n",
        "print('R^2: {:.5f}'.format(r2_k_value))"
      ],
      "metadata": {
        "id": "h0z7rCSv-ziS",
        "outputId": "90e9911f-8a2a-4906-dd7d-ec7a413d0a6d",
        "colab": {
          "base_uri": "https://localhost:8080/"
        }
      },
      "execution_count": 23,
      "outputs": [
        {
          "output_type": "stream",
          "name": "stdout",
          "text": [
            "R^2: 0.75706\n"
          ]
        }
      ]
    },
    {
      "cell_type": "markdown",
      "source": [
        "**4.k)** Calculate the area under curve (AUC) for the LDA, QDA, logistic regression, naive Bayes and for the best value of K for the KNN method. Compare the results."
      ],
      "metadata": {
        "id": "nvhamoK0i2WZ"
      }
    },
    {
      "cell_type": "code",
      "source": [
        "from sklearn import metrics\n",
        "\n",
        "auc = metrics.roc_auc_score(y_test, y_pred)\n",
        "print('AUC da LDA é', auc)\n",
        "\n",
        "auc = metrics.roc_auc_score(y_test, y2)\n",
        "print('AUC da QDA é', auc)\n",
        "\n",
        "auc = metrics.roc_auc_score(y_test, mpg01_lgpredic)\n",
        "print('AUC da Reressáo Logistica é', auc)\n",
        "\n",
        "auc = metrics.roc_auc_score(y_test, mpg01_nb_pred)\n",
        "print('AUC de Naive Bayes é', auc)\n",
        "\n",
        "auc = metrics.roc_auc_score(y_test, mpg01_k_pred)\n",
        "print('AUC de Naive Bayes é', auc)"
      ],
      "metadata": {
        "id": "Rwu6woqClmEJ",
        "outputId": "4535cf88-9d22-40d6-c9a4-b579d679ae3c",
        "colab": {
          "base_uri": "https://localhost:8080/"
        }
      },
      "execution_count": 24,
      "outputs": [
        {
          "output_type": "stream",
          "name": "stdout",
          "text": [
            "AUC da LDA é 0.913235294117647\n",
            "AUC da QDA é 0.9197058823529412\n",
            "AUC da Reressáo Logistica é 0.8791176470588236\n",
            "AUC de Naive Bayes é 0.896470588235294\n",
            "AUC de Naive Bayes é 0.9299999999999999\n"
          ]
        }
      ]
    },
    {
      "cell_type": "markdown",
      "source": [
        "## Section 3 -- Bootstrap and k-Fold"
      ],
      "metadata": {
        "id": "jEtBKnHni2GT"
      }
    },
    {
      "cell_type": "markdown",
      "source": [
        "**5.a)** Explain how k-fold cross-validation is implemented\n",
        "\n",
        "Obtendo os dados, dividimos os mesmos aleatoriamente em K partes aproximadamente do mesmo tamanho. De seguida admitimos que a primeira parte como validation data e introduzimos o modelo nas restantes k-1 partes. Calcula-se o mean square error (MSE) nas observações das k-1 partes. Depois repetimos o processo k vezes de forma a que todas as partes sejam vistas como validation data, calculando para cada o MSE. No final calcula-se o k-fold cross validation através da equação apresentada nas teóricas."
      ],
      "metadata": {
        "id": "AyCSRMx2pDsm"
      }
    },
    {
      "cell_type": "markdown",
      "source": [
        "**5.b)** What are the advantages and disadvantages of k-Fold cross-validation relative to:\n",
        "\n",
        "1. Validation set approach.\n",
        "\n",
        "*   Vantagens: Validation Set Approach é altamente variável porque depende do tipo de observações que serão incluidas nos dados de treino e nos dados de validação. Neste método apenas uma parte das observações (dados de treino) é usada. Visto que os métodos estatísticos têm melhores respostas quando maior for o número de dados observados (o que não acontece neste caso) o erro de validação terá a tendência de estimar em excesso o erro de teste em todo o dataset.\n",
        "*   Desvantagens: Validation Set Approach é mais simples e fácil de modelar.\n",
        "2. Leave One Out Cross-Validation (LOOCV)\n",
        "\n",
        "*   Vantagens:  LOOCV tem uma variância muito alta, porque ao analisar-se quase todos os dados de treino apenas numa observação iremos obter muitos dados sobrepostos. Isto provoca um aumento na correlação com a estimativa do erro de teste e por consequência um maior desvio do valor médio do erro.\n",
        "\n",
        "\n",
        "*   Desvantagens: LOOCV tem menor tendência a estimar em demasia, devido a cada conjunto de dados de treino conter n-1 observações. O que signfica que estaremos a usar quase todos os dados de treino em apenas uma validação."
      ],
      "metadata": {
        "id": "MbIethdmpcwr"
      }
    },
    {
      "cell_type": "markdown",
      "source": [
        "## Section 4 -- Other Questions"
      ],
      "metadata": {
        "id": "jOcCUxFMpAGw"
      }
    },
    {
      "cell_type": "markdown",
      "source": [
        "**6)** In your group's option, what are the advantages and disadvantages of using a virtual environment when programming in Python?"
      ],
      "metadata": {
        "id": "jUkJU0D7pFWO"
      }
    },
    {
      "cell_type": "markdown",
      "source": [
        "**7)** In your group's opinion, in what circumstances is it better to use Jupyter Notebooks and when is it better to use Google Colab notebooks? Give some specific examples."
      ],
      "metadata": {
        "id": "W8dWu7BXpFTc"
      }
    },
    {
      "cell_type": "markdown",
      "source": [
        "**8)** Enter your GitHub repository webpage."
      ],
      "metadata": {
        "id": "Sl0krfG6pFH6"
      }
    }
  ]
}